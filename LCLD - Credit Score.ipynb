{
 "cells": [
  {
   "cell_type": "code",
   "execution_count": 1,
   "metadata": {
    "collapsed": false,
    "scrolled": true
   },
   "outputs": [
    {
     "name": "stderr",
     "output_type": "stream",
     "text": [
      "D:\\Program Files (x86)\\anaconda\\lib\\site-packages\\IPython\\core\\interactiveshell.py:2723: DtypeWarning: Columns (19,55) have mixed types. Specify dtype option on import or set low_memory=False.\n",
      "  interactivity=interactivity, compiler=compiler, result=result)\n"
     ]
    }
   ],
   "source": [
    "import numpy as np\n",
    "import pandas as pd\n",
    "\n",
    "loan_data = pd.read_csv('./loan.csv', header=0)"
   ]
  },
  {
   "cell_type": "markdown",
   "metadata": {},
   "source": [
    "## 1. 样本选择\n",
    "\n",
    "* 贷款数据集中含有80+万条贷款数据，占用内存500M，由于Python具有强大的处理能力，完全能够一次性处理500M数据，因此本文不对总体进行抽样，直接使用总体数据。\n",
    "* 对于预测变量和表现变量的选择：本文使用信用局信用数据进行风险建模，因此只提取贷款用户的信用信息。"
   ]
  },
  {
   "cell_type": "markdown",
   "metadata": {},
   "source": [
    "## 2. 模型分组"
   ]
  },
  {
   "cell_type": "code",
   "execution_count": 2,
   "metadata": {
    "collapsed": false
   },
   "outputs": [
    {
     "name": "stdout",
     "output_type": "stream",
     "text": [
      "Populating the interactive namespace from numpy and matplotlib\n"
     ]
    }
   ],
   "source": [
    "import matplotlib.pyplot as plt\n",
    "%matplotlib inline\n",
    "%pylab inline\n",
    "import matplotlib\n",
    "matplotlib.style.use('ggplot')"
   ]
  },
  {
   "cell_type": "markdown",
   "metadata": {},
   "source": [
    "### 2.1 提取信用变量\n",
    "\n",
    "参考FICO信用变量分组可知，变量可以划分为5个种类：\n",
    "* 支付历史负面表现\n",
    "* 信用历史\n",
    "* 对新信用的追求程度\n",
    "* 信用卡种类\n",
    "* 现在的负债水平"
   ]
  },
  {
   "cell_type": "code",
   "execution_count": 3,
   "metadata": {
    "collapsed": false
   },
   "outputs": [
    {
     "data": {
      "text/html": [
       "<div>\n",
       "<table border=\"1\" class=\"dataframe\">\n",
       "  <thead>\n",
       "    <tr style=\"text-align: right;\">\n",
       "      <th></th>\n",
       "      <th>delinq_2yrs</th>\n",
       "      <th>mths_since_last_delinq</th>\n",
       "      <th>mths_since_last_record</th>\n",
       "      <th>pub_rec</th>\n",
       "      <th>collections_12_mths_ex_med</th>\n",
       "      <th>acc_now_delinq</th>\n",
       "      <th>tot_coll_amt</th>\n",
       "      <th>dti</th>\n",
       "      <th>revol_bal</th>\n",
       "      <th>revol_util</th>\n",
       "      <th>...</th>\n",
       "      <th>open_acc</th>\n",
       "      <th>open_acc_6m</th>\n",
       "      <th>open_il_6m</th>\n",
       "      <th>open_il_12m</th>\n",
       "      <th>open_il_24m</th>\n",
       "      <th>mths_since_rcnt_il</th>\n",
       "      <th>open_rv_12m</th>\n",
       "      <th>open_rv_24m</th>\n",
       "      <th>inq_fi</th>\n",
       "      <th>total_cu_tl</th>\n",
       "    </tr>\n",
       "  </thead>\n",
       "  <tbody>\n",
       "    <tr>\n",
       "      <th>0</th>\n",
       "      <td>0.0</td>\n",
       "      <td>NaN</td>\n",
       "      <td>NaN</td>\n",
       "      <td>0.0</td>\n",
       "      <td>0.0</td>\n",
       "      <td>0.0</td>\n",
       "      <td>NaN</td>\n",
       "      <td>27.65</td>\n",
       "      <td>13648.0</td>\n",
       "      <td>83.7</td>\n",
       "      <td>...</td>\n",
       "      <td>3.0</td>\n",
       "      <td>NaN</td>\n",
       "      <td>NaN</td>\n",
       "      <td>NaN</td>\n",
       "      <td>NaN</td>\n",
       "      <td>NaN</td>\n",
       "      <td>NaN</td>\n",
       "      <td>NaN</td>\n",
       "      <td>NaN</td>\n",
       "      <td>NaN</td>\n",
       "    </tr>\n",
       "    <tr>\n",
       "      <th>1</th>\n",
       "      <td>0.0</td>\n",
       "      <td>NaN</td>\n",
       "      <td>NaN</td>\n",
       "      <td>0.0</td>\n",
       "      <td>0.0</td>\n",
       "      <td>0.0</td>\n",
       "      <td>NaN</td>\n",
       "      <td>1.00</td>\n",
       "      <td>1687.0</td>\n",
       "      <td>9.4</td>\n",
       "      <td>...</td>\n",
       "      <td>3.0</td>\n",
       "      <td>NaN</td>\n",
       "      <td>NaN</td>\n",
       "      <td>NaN</td>\n",
       "      <td>NaN</td>\n",
       "      <td>NaN</td>\n",
       "      <td>NaN</td>\n",
       "      <td>NaN</td>\n",
       "      <td>NaN</td>\n",
       "      <td>NaN</td>\n",
       "    </tr>\n",
       "    <tr>\n",
       "      <th>2</th>\n",
       "      <td>0.0</td>\n",
       "      <td>NaN</td>\n",
       "      <td>NaN</td>\n",
       "      <td>0.0</td>\n",
       "      <td>0.0</td>\n",
       "      <td>0.0</td>\n",
       "      <td>NaN</td>\n",
       "      <td>8.72</td>\n",
       "      <td>2956.0</td>\n",
       "      <td>98.5</td>\n",
       "      <td>...</td>\n",
       "      <td>2.0</td>\n",
       "      <td>NaN</td>\n",
       "      <td>NaN</td>\n",
       "      <td>NaN</td>\n",
       "      <td>NaN</td>\n",
       "      <td>NaN</td>\n",
       "      <td>NaN</td>\n",
       "      <td>NaN</td>\n",
       "      <td>NaN</td>\n",
       "      <td>NaN</td>\n",
       "    </tr>\n",
       "    <tr>\n",
       "      <th>3</th>\n",
       "      <td>0.0</td>\n",
       "      <td>35.0</td>\n",
       "      <td>NaN</td>\n",
       "      <td>0.0</td>\n",
       "      <td>0.0</td>\n",
       "      <td>0.0</td>\n",
       "      <td>NaN</td>\n",
       "      <td>20.00</td>\n",
       "      <td>5598.0</td>\n",
       "      <td>21.0</td>\n",
       "      <td>...</td>\n",
       "      <td>10.0</td>\n",
       "      <td>NaN</td>\n",
       "      <td>NaN</td>\n",
       "      <td>NaN</td>\n",
       "      <td>NaN</td>\n",
       "      <td>NaN</td>\n",
       "      <td>NaN</td>\n",
       "      <td>NaN</td>\n",
       "      <td>NaN</td>\n",
       "      <td>NaN</td>\n",
       "    </tr>\n",
       "    <tr>\n",
       "      <th>4</th>\n",
       "      <td>0.0</td>\n",
       "      <td>38.0</td>\n",
       "      <td>NaN</td>\n",
       "      <td>0.0</td>\n",
       "      <td>0.0</td>\n",
       "      <td>0.0</td>\n",
       "      <td>NaN</td>\n",
       "      <td>17.94</td>\n",
       "      <td>27783.0</td>\n",
       "      <td>53.9</td>\n",
       "      <td>...</td>\n",
       "      <td>15.0</td>\n",
       "      <td>NaN</td>\n",
       "      <td>NaN</td>\n",
       "      <td>NaN</td>\n",
       "      <td>NaN</td>\n",
       "      <td>NaN</td>\n",
       "      <td>NaN</td>\n",
       "      <td>NaN</td>\n",
       "      <td>NaN</td>\n",
       "      <td>NaN</td>\n",
       "    </tr>\n",
       "  </tbody>\n",
       "</table>\n",
       "<p>5 rows × 29 columns</p>\n",
       "</div>"
      ],
      "text/plain": [
       "   delinq_2yrs  mths_since_last_delinq  mths_since_last_record  pub_rec  \\\n",
       "0          0.0                     NaN                     NaN      0.0   \n",
       "1          0.0                     NaN                     NaN      0.0   \n",
       "2          0.0                     NaN                     NaN      0.0   \n",
       "3          0.0                    35.0                     NaN      0.0   \n",
       "4          0.0                    38.0                     NaN      0.0   \n",
       "\n",
       "   collections_12_mths_ex_med  acc_now_delinq  tot_coll_amt    dti  revol_bal  \\\n",
       "0                         0.0             0.0           NaN  27.65    13648.0   \n",
       "1                         0.0             0.0           NaN   1.00     1687.0   \n",
       "2                         0.0             0.0           NaN   8.72     2956.0   \n",
       "3                         0.0             0.0           NaN  20.00     5598.0   \n",
       "4                         0.0             0.0           NaN  17.94    27783.0   \n",
       "\n",
       "   revol_util     ...       open_acc  open_acc_6m  open_il_6m  open_il_12m  \\\n",
       "0        83.7     ...            3.0          NaN         NaN          NaN   \n",
       "1         9.4     ...            3.0          NaN         NaN          NaN   \n",
       "2        98.5     ...            2.0          NaN         NaN          NaN   \n",
       "3        21.0     ...           10.0          NaN         NaN          NaN   \n",
       "4        53.9     ...           15.0          NaN         NaN          NaN   \n",
       "\n",
       "   open_il_24m  mths_since_rcnt_il  open_rv_12m open_rv_24m  inq_fi  \\\n",
       "0          NaN                 NaN          NaN         NaN     NaN   \n",
       "1          NaN                 NaN          NaN         NaN     NaN   \n",
       "2          NaN                 NaN          NaN         NaN     NaN   \n",
       "3          NaN                 NaN          NaN         NaN     NaN   \n",
       "4          NaN                 NaN          NaN         NaN     NaN   \n",
       "\n",
       "   total_cu_tl  \n",
       "0          NaN  \n",
       "1          NaN  \n",
       "2          NaN  \n",
       "3          NaN  \n",
       "4          NaN  \n",
       "\n",
       "[5 rows x 29 columns]"
      ]
     },
     "execution_count": 3,
     "metadata": {},
     "output_type": "execute_result"
    }
   ],
   "source": [
    "payment_history = ['delinq_2yrs', 'mths_since_last_delinq', 'mths_since_last_record', 'pub_rec', 'collections_12_mths_ex_med', 'acc_now_delinq',\\\n",
    "                   'tot_coll_amt']\n",
    "amount_of_debt = ['dti', 'revol_bal', 'revol_util', 'total_acc', 'tot_cur_bal', 'total_bal_il', 'il_util', 'max_bal_bc', 'all_util', \\\n",
    "                  'total_rev_hi_lim']\n",
    "length_of_credit_history = ['earliest_cr_line']\n",
    "new_credit = ['inq_last_6mths', 'open_acc', 'open_acc_6m', 'open_il_6m', 'open_il_12m', 'open_il_24m', 'mths_since_rcnt_il', \\\n",
    "              'open_rv_12m', 'open_rv_24m', 'inq_fi', 'total_cu_tl']\n",
    "credit_mix = []\n",
    "\n",
    "credit_variable = []\n",
    "credit_variable.extend(payment_history)\n",
    "credit_variable.extend(amount_of_debt)\n",
    "credit_variable.extend(length_of_credit_history)\n",
    "credit_variable.extend(new_credit)\n",
    "credit_variable.extend(credit_mix)\n",
    "credit_data = loan_data[credit_variable]\n",
    "credit_data.head()"
   ]
  },
  {
   "cell_type": "markdown",
   "metadata": {},
   "source": [
    "从上表可以看出，数据当中有很多缺失值，这些缺失值可能是由于信用历史太短而没有记录所造成的缺失。而对于有完备信用记录的人群，我们所建的模型显然要和信用记录过少的人群有所不同。**因此，我们先按信用记录的多寡来对数据进行分组**\n",
    "\n",
    "### 2.2 按信用记录多寡进行模型分组"
   ]
  },
  {
   "cell_type": "code",
   "execution_count": 4,
   "metadata": {
    "collapsed": false
   },
   "outputs": [
    {
     "data": {
      "text/plain": [
       "delinq_2yrs                       29\n",
       "inq_last_6mths                    29\n",
       "earliest_cr_line                  29\n",
       "pub_rec                           29\n",
       "acc_now_delinq                    29\n",
       "total_acc                         29\n",
       "open_acc                          29\n",
       "collections_12_mths_ex_med       145\n",
       "revol_util                       502\n",
       "total_rev_hi_lim               70276\n",
       "tot_cur_bal                    70276\n",
       "tot_coll_amt                   70276\n",
       "mths_since_last_delinq        454312\n",
       "mths_since_last_record        750326\n",
       "open_rv_12m                   866007\n",
       "open_il_24m                   866007\n",
       "open_il_12m                   866007\n",
       "open_rv_24m                   866007\n",
       "open_il_6m                    866007\n",
       "all_util                      866007\n",
       "inq_fi                        866007\n",
       "max_bal_bc                    866007\n",
       "total_bal_il                  866007\n",
       "open_acc_6m                   866007\n",
       "total_cu_tl                   866007\n",
       "mths_since_rcnt_il            866569\n",
       "il_util                       868762\n",
       "dtype: int64"
      ]
     },
     "execution_count": 4,
     "metadata": {},
     "output_type": "execute_result"
    }
   ],
   "source": [
    "null_data = credit_data.isnull().sum(0)\n",
    "null_data = null_data[null_data > 0]\n",
    "null_data.sort_values()"
   ]
  },
  {
   "cell_type": "markdown",
   "metadata": {},
   "source": [
    "#### 2.2.1 得到拥有完善信用记录的贷款者信用信息并建模"
   ]
  },
  {
   "cell_type": "code",
   "execution_count": 5,
   "metadata": {
    "collapsed": false
   },
   "outputs": [
    {
     "name": "stdout",
     "output_type": "stream",
     "text": [
      "<class 'pandas.core.frame.DataFrame'>\n",
      "Int64Index: 18617 entries, 466285 to 489161\n",
      "Data columns (total 29 columns):\n",
      "delinq_2yrs                   18617 non-null float64\n",
      "mths_since_last_delinq        9828 non-null float64\n",
      "mths_since_last_record        3417 non-null float64\n",
      "pub_rec                       18617 non-null float64\n",
      "collections_12_mths_ex_med    18617 non-null float64\n",
      "acc_now_delinq                18617 non-null float64\n",
      "tot_coll_amt                  18617 non-null float64\n",
      "dti                           18617 non-null float64\n",
      "revol_bal                     18617 non-null float64\n",
      "revol_util                    18606 non-null float64\n",
      "total_acc                     18617 non-null float64\n",
      "tot_cur_bal                   18617 non-null float64\n",
      "total_bal_il                  18617 non-null float64\n",
      "il_util                       18617 non-null float64\n",
      "max_bal_bc                    18617 non-null float64\n",
      "all_util                      18617 non-null float64\n",
      "total_rev_hi_lim              18617 non-null float64\n",
      "earliest_cr_line              18617 non-null object\n",
      "inq_last_6mths                18617 non-null float64\n",
      "open_acc                      18617 non-null float64\n",
      "open_acc_6m                   18617 non-null float64\n",
      "open_il_6m                    18617 non-null float64\n",
      "open_il_12m                   18617 non-null float64\n",
      "open_il_24m                   18617 non-null float64\n",
      "mths_since_rcnt_il            18591 non-null float64\n",
      "open_rv_12m                   18617 non-null float64\n",
      "open_rv_24m                   18617 non-null float64\n",
      "inq_fi                        18617 non-null float64\n",
      "total_cu_tl                   18617 non-null float64\n",
      "dtypes: float64(28), object(1)\n",
      "memory usage: 4.3+ MB\n"
     ]
    }
   ],
   "source": [
    "perfect_credit_data = credit_data[credit_data.il_util.notnull()]\n",
    "perfect_credit_data.info()"
   ]
  },
  {
   "cell_type": "markdown",
   "metadata": {},
   "source": [
    "通过查看上表，可以发现：\n",
    "* mths_since_last_delinq和mths_since_last_record两列缺失值太多，应当直接删除。\n",
    "* revol_util和mths_since_rcnt_il两列缺失值不多，我们可以直接删除对应的缺失行即可。"
   ]
  },
  {
   "cell_type": "code",
   "execution_count": 6,
   "metadata": {
    "collapsed": false
   },
   "outputs": [
    {
     "name": "stdout",
     "output_type": "stream",
     "text": [
      "<class 'pandas.core.frame.DataFrame'>\n",
      "Int64Index: 18580 entries, 466285 to 489161\n",
      "Data columns (total 27 columns):\n",
      "delinq_2yrs                   18580 non-null float64\n",
      "pub_rec                       18580 non-null float64\n",
      "collections_12_mths_ex_med    18580 non-null float64\n",
      "acc_now_delinq                18580 non-null float64\n",
      "tot_coll_amt                  18580 non-null float64\n",
      "dti                           18580 non-null float64\n",
      "revol_bal                     18580 non-null float64\n",
      "revol_util                    18580 non-null float64\n",
      "total_acc                     18580 non-null float64\n",
      "tot_cur_bal                   18580 non-null float64\n",
      "total_bal_il                  18580 non-null float64\n",
      "il_util                       18580 non-null float64\n",
      "max_bal_bc                    18580 non-null float64\n",
      "all_util                      18580 non-null float64\n",
      "total_rev_hi_lim              18580 non-null float64\n",
      "earliest_cr_line              18580 non-null object\n",
      "inq_last_6mths                18580 non-null float64\n",
      "open_acc                      18580 non-null float64\n",
      "open_acc_6m                   18580 non-null float64\n",
      "open_il_6m                    18580 non-null float64\n",
      "open_il_12m                   18580 non-null float64\n",
      "open_il_24m                   18580 non-null float64\n",
      "mths_since_rcnt_il            18580 non-null float64\n",
      "open_rv_12m                   18580 non-null float64\n",
      "open_rv_24m                   18580 non-null float64\n",
      "inq_fi                        18580 non-null float64\n",
      "total_cu_tl                   18580 non-null float64\n",
      "dtypes: float64(26), object(1)\n",
      "memory usage: 4.0+ MB\n"
     ]
    }
   ],
   "source": [
    "perfect_credit_data = perfect_credit_data.drop(['mths_since_last_delinq', 'mths_since_last_record'], 1)\n",
    "perfect_credit_data = perfect_credit_data.dropna()\n",
    "perfect_credit_data.info()"
   ]
  },
  {
   "cell_type": "code",
   "execution_count": 7,
   "metadata": {
    "collapsed": false
   },
   "outputs": [
    {
     "data": {
      "text/html": [
       "<div>\n",
       "<table border=\"1\" class=\"dataframe\">\n",
       "  <thead>\n",
       "    <tr style=\"text-align: right;\">\n",
       "      <th></th>\n",
       "      <th>delinq_2yrs</th>\n",
       "      <th>pub_rec</th>\n",
       "      <th>collections_12_mths_ex_med</th>\n",
       "      <th>acc_now_delinq</th>\n",
       "      <th>tot_coll_amt</th>\n",
       "      <th>dti</th>\n",
       "      <th>revol_bal</th>\n",
       "      <th>revol_util</th>\n",
       "      <th>total_acc</th>\n",
       "      <th>tot_cur_bal</th>\n",
       "      <th>...</th>\n",
       "      <th>open_acc</th>\n",
       "      <th>open_acc_6m</th>\n",
       "      <th>open_il_6m</th>\n",
       "      <th>open_il_12m</th>\n",
       "      <th>open_il_24m</th>\n",
       "      <th>mths_since_rcnt_il</th>\n",
       "      <th>open_rv_12m</th>\n",
       "      <th>open_rv_24m</th>\n",
       "      <th>inq_fi</th>\n",
       "      <th>total_cu_tl</th>\n",
       "    </tr>\n",
       "  </thead>\n",
       "  <tbody>\n",
       "    <tr>\n",
       "      <th>466285</th>\n",
       "      <td>0.0</td>\n",
       "      <td>0.0</td>\n",
       "      <td>0.0</td>\n",
       "      <td>0.0</td>\n",
       "      <td>321.0</td>\n",
       "      <td>6.46</td>\n",
       "      <td>14277.0</td>\n",
       "      <td>27.4</td>\n",
       "      <td>46.0</td>\n",
       "      <td>146867.0</td>\n",
       "      <td>...</td>\n",
       "      <td>17.0</td>\n",
       "      <td>1.0</td>\n",
       "      <td>11.0</td>\n",
       "      <td>0.0</td>\n",
       "      <td>0.0</td>\n",
       "      <td>28.0</td>\n",
       "      <td>0.0</td>\n",
       "      <td>1.0</td>\n",
       "      <td>1.0</td>\n",
       "      <td>4.0</td>\n",
       "    </tr>\n",
       "    <tr>\n",
       "      <th>466286</th>\n",
       "      <td>0.0</td>\n",
       "      <td>0.0</td>\n",
       "      <td>0.0</td>\n",
       "      <td>0.0</td>\n",
       "      <td>0.0</td>\n",
       "      <td>7.28</td>\n",
       "      <td>7158.0</td>\n",
       "      <td>26.7</td>\n",
       "      <td>24.0</td>\n",
       "      <td>165450.0</td>\n",
       "      <td>...</td>\n",
       "      <td>15.0</td>\n",
       "      <td>0.0</td>\n",
       "      <td>1.0</td>\n",
       "      <td>1.0</td>\n",
       "      <td>1.0</td>\n",
       "      <td>11.0</td>\n",
       "      <td>0.0</td>\n",
       "      <td>3.0</td>\n",
       "      <td>1.0</td>\n",
       "      <td>0.0</td>\n",
       "    </tr>\n",
       "    <tr>\n",
       "      <th>466287</th>\n",
       "      <td>2.0</td>\n",
       "      <td>0.0</td>\n",
       "      <td>0.0</td>\n",
       "      <td>0.0</td>\n",
       "      <td>0.0</td>\n",
       "      <td>15.22</td>\n",
       "      <td>1058.0</td>\n",
       "      <td>24.6</td>\n",
       "      <td>6.0</td>\n",
       "      <td>4888.0</td>\n",
       "      <td>...</td>\n",
       "      <td>6.0</td>\n",
       "      <td>0.0</td>\n",
       "      <td>1.0</td>\n",
       "      <td>0.0</td>\n",
       "      <td>0.0</td>\n",
       "      <td>47.0</td>\n",
       "      <td>0.0</td>\n",
       "      <td>0.0</td>\n",
       "      <td>0.0</td>\n",
       "      <td>0.0</td>\n",
       "    </tr>\n",
       "    <tr>\n",
       "      <th>466288</th>\n",
       "      <td>0.0</td>\n",
       "      <td>0.0</td>\n",
       "      <td>0.0</td>\n",
       "      <td>0.0</td>\n",
       "      <td>0.0</td>\n",
       "      <td>31.04</td>\n",
       "      <td>5812.0</td>\n",
       "      <td>40.9</td>\n",
       "      <td>23.0</td>\n",
       "      <td>41166.0</td>\n",
       "      <td>...</td>\n",
       "      <td>10.0</td>\n",
       "      <td>1.0</td>\n",
       "      <td>3.0</td>\n",
       "      <td>0.0</td>\n",
       "      <td>2.0</td>\n",
       "      <td>13.0</td>\n",
       "      <td>1.0</td>\n",
       "      <td>1.0</td>\n",
       "      <td>1.0</td>\n",
       "      <td>1.0</td>\n",
       "    </tr>\n",
       "    <tr>\n",
       "      <th>466289</th>\n",
       "      <td>0.0</td>\n",
       "      <td>0.0</td>\n",
       "      <td>0.0</td>\n",
       "      <td>0.0</td>\n",
       "      <td>0.0</td>\n",
       "      <td>10.78</td>\n",
       "      <td>7869.0</td>\n",
       "      <td>56.2</td>\n",
       "      <td>18.0</td>\n",
       "      <td>189699.0</td>\n",
       "      <td>...</td>\n",
       "      <td>6.0</td>\n",
       "      <td>0.0</td>\n",
       "      <td>1.0</td>\n",
       "      <td>0.0</td>\n",
       "      <td>4.0</td>\n",
       "      <td>19.0</td>\n",
       "      <td>0.0</td>\n",
       "      <td>2.0</td>\n",
       "      <td>2.0</td>\n",
       "      <td>5.0</td>\n",
       "    </tr>\n",
       "  </tbody>\n",
       "</table>\n",
       "<p>5 rows × 27 columns</p>\n",
       "</div>"
      ],
      "text/plain": [
       "        delinq_2yrs  pub_rec  collections_12_mths_ex_med  acc_now_delinq  \\\n",
       "466285          0.0      0.0                         0.0             0.0   \n",
       "466286          0.0      0.0                         0.0             0.0   \n",
       "466287          2.0      0.0                         0.0             0.0   \n",
       "466288          0.0      0.0                         0.0             0.0   \n",
       "466289          0.0      0.0                         0.0             0.0   \n",
       "\n",
       "        tot_coll_amt    dti  revol_bal  revol_util  total_acc  tot_cur_bal  \\\n",
       "466285         321.0   6.46    14277.0        27.4       46.0     146867.0   \n",
       "466286           0.0   7.28     7158.0        26.7       24.0     165450.0   \n",
       "466287           0.0  15.22     1058.0        24.6        6.0       4888.0   \n",
       "466288           0.0  31.04     5812.0        40.9       23.0      41166.0   \n",
       "466289           0.0  10.78     7869.0        56.2       18.0     189699.0   \n",
       "\n",
       "           ...       open_acc  open_acc_6m  open_il_6m  open_il_12m  \\\n",
       "466285     ...           17.0          1.0        11.0          0.0   \n",
       "466286     ...           15.0          0.0         1.0          1.0   \n",
       "466287     ...            6.0          0.0         1.0          0.0   \n",
       "466288     ...           10.0          1.0         3.0          0.0   \n",
       "466289     ...            6.0          0.0         1.0          0.0   \n",
       "\n",
       "        open_il_24m mths_since_rcnt_il  open_rv_12m  open_rv_24m  inq_fi  \\\n",
       "466285          0.0               28.0          0.0          1.0     1.0   \n",
       "466286          1.0               11.0          0.0          3.0     1.0   \n",
       "466287          0.0               47.0          0.0          0.0     0.0   \n",
       "466288          2.0               13.0          1.0          1.0     1.0   \n",
       "466289          4.0               19.0          0.0          2.0     2.0   \n",
       "\n",
       "        total_cu_tl  \n",
       "466285          4.0  \n",
       "466286          0.0  \n",
       "466287          0.0  \n",
       "466288          1.0  \n",
       "466289          5.0  \n",
       "\n",
       "[5 rows x 27 columns]"
      ]
     },
     "execution_count": 7,
     "metadata": {},
     "output_type": "execute_result"
    }
   ],
   "source": [
    "perfect_credit_data.head()"
   ]
  },
  {
   "cell_type": "code",
   "execution_count": 8,
   "metadata": {
    "collapsed": false
   },
   "outputs": [
    {
     "data": {
      "text/plain": [
       "466285   1990-02-01\n",
       "466286   2001-07-01\n",
       "466287   2011-07-01\n",
       "466288   1998-12-01\n",
       "466289   2000-08-01\n",
       "Name: earliest_cr_line, dtype: datetime64[ns]"
      ]
     },
     "execution_count": 8,
     "metadata": {},
     "output_type": "execute_result"
    }
   ],
   "source": [
    "# 通过earliest_cr_line得到贷款者信用历史长度\n",
    "perfect_credit_data['earliest_cr_line'] = pd.to_datetime(perfect_credit_data.earliest_cr_line)\n",
    "perfect_credit_data.earliest_cr_line.head()"
   ]
  },
  {
   "cell_type": "code",
   "execution_count": 9,
   "metadata": {
    "collapsed": false
   },
   "outputs": [
    {
     "data": {
      "text/plain": [
       "466285   9351 days\n",
       "466286   5183 days\n",
       "466287   1531 days\n",
       "466288   6126 days\n",
       "466289   5517 days\n",
       "Name: credit_history_length, dtype: timedelta64[ns]"
      ]
     },
     "execution_count": 9,
     "metadata": {},
     "output_type": "execute_result"
    }
   ],
   "source": [
    "time_now = datetime.datetime(2015, 9, 9)\n",
    "perfect_credit_data['credit_history_length'] = perfect_credit_data.earliest_cr_line\n",
    "perfect_credit_data['credit_history_length'] = time_now - perfect_credit_data.earliest_cr_line\n",
    "perfect_credit_data.credit_history_length.head()"
   ]
  },
  {
   "cell_type": "code",
   "execution_count": 10,
   "metadata": {
    "collapsed": false
   },
   "outputs": [
    {
     "data": {
      "text/html": [
       "<div>\n",
       "<table border=\"1\" class=\"dataframe\">\n",
       "  <thead>\n",
       "    <tr style=\"text-align: right;\">\n",
       "      <th></th>\n",
       "      <th>credit_history_length</th>\n",
       "      <th>earliest_cr_line</th>\n",
       "    </tr>\n",
       "  </thead>\n",
       "  <tbody>\n",
       "    <tr>\n",
       "      <th>466285</th>\n",
       "      <td>25.0</td>\n",
       "      <td>1990-02-01</td>\n",
       "    </tr>\n",
       "    <tr>\n",
       "      <th>466286</th>\n",
       "      <td>14.0</td>\n",
       "      <td>2001-07-01</td>\n",
       "    </tr>\n",
       "    <tr>\n",
       "      <th>466287</th>\n",
       "      <td>4.0</td>\n",
       "      <td>2011-07-01</td>\n",
       "    </tr>\n",
       "    <tr>\n",
       "      <th>466288</th>\n",
       "      <td>17.0</td>\n",
       "      <td>1998-12-01</td>\n",
       "    </tr>\n",
       "    <tr>\n",
       "      <th>466289</th>\n",
       "      <td>15.0</td>\n",
       "      <td>2000-08-01</td>\n",
       "    </tr>\n",
       "  </tbody>\n",
       "</table>\n",
       "</div>"
      ],
      "text/plain": [
       "        credit_history_length earliest_cr_line\n",
       "466285                   25.0       1990-02-01\n",
       "466286                   14.0       2001-07-01\n",
       "466287                    4.0       2011-07-01\n",
       "466288                   17.0       1998-12-01\n",
       "466289                   15.0       2000-08-01"
      ]
     },
     "execution_count": 10,
     "metadata": {},
     "output_type": "execute_result"
    }
   ],
   "source": [
    "perfect_credit_data['credit_history_length'] = perfect_credit_data.credit_history_length.map(lambda x: float(x.days/360))\n",
    "perfect_credit_data[['credit_history_length', 'earliest_cr_line']].head()"
   ]
  },
  {
   "cell_type": "markdown",
   "metadata": {},
   "source": [
    "**1）按信用历史对模型进行分组**"
   ]
  },
  {
   "cell_type": "code",
   "execution_count": 11,
   "metadata": {
    "collapsed": false
   },
   "outputs": [
    {
     "data": {
      "text/plain": [
       "<matplotlib.axes._subplots.AxesSubplot at 0x18450be0>"
      ]
     },
     "execution_count": 11,
     "metadata": {},
     "output_type": "execute_result"
    },
    {
     "data": {
      "image/png": "[encoded data removed]",
      "text/plain": [
       "<matplotlib.figure.Figure at 0x18a20ef0>"
      ]
     },
     "metadata": {},
     "output_type": "display_data"
    }
   ],
   "source": [
    "perfect_credit_data[['credit_history_length']].groupby('credit_history_length').credit_history_length.agg(np.count_nonzero).plot(kind='bar', figsize=(12, 7), title='fig 1')"
   ]
  },
  {
   "cell_type": "markdown",
   "metadata": {},
   "source": [
    "**2）按信用历史分组统计“坏”的频率，评估是否需要按信用历史长度对模型分组**\n",
    "\n",
    "“坏”的定义（参考《信用评分模型技术与应用》P118）：\n",
    "* 个人破产\n",
    "* 呆账（这是啥玩意？）\n",
    "* 贷款违约\n",
    "* 抵押品拘押\n",
    "* 严重逾期拖欠\n",
    "\n",
    " 以上“坏”的表现可用变量：collections_12_mths_ex_med、acc_now_delinq、tot_coll_amt来确定。\n",
    "\n",
    "“好”的定义：\n",
    "* 未出现违约和拖欠行为\n",
    "* 30天以下的轻度拖欠行为"
   ]
  },
  {
   "cell_type": "code",
   "execution_count": 12,
   "metadata": {
    "collapsed": false
   },
   "outputs": [
    {
     "data": {
      "text/plain": [
       "count     18580.000000\n",
       "mean        278.944618\n",
       "std        2280.580472\n",
       "min           0.000000\n",
       "25%           0.000000\n",
       "50%           0.000000\n",
       "75%           0.000000\n",
       "max      140842.000000\n",
       "Name: tot_coll_amt, dtype: float64"
      ]
     },
     "execution_count": 12,
     "metadata": {},
     "output_type": "execute_result"
    }
   ],
   "source": [
    "perfect_credit_data.tot_coll_amt.describe()"
   ]
  },
  {
   "cell_type": "code",
   "execution_count": 13,
   "metadata": {
    "collapsed": false,
    "scrolled": false
   },
   "outputs": [
    {
     "data": {
      "text/plain": [
       "<matplotlib.axes._subplots.AxesSubplot at 0x1846c828>"
      ]
     },
     "execution_count": 13,
     "metadata": {},
     "output_type": "execute_result"
    },
    {
     "data": {
      "image/png": "[encoded data removed]",
      "text/plain": [
       "<matplotlib.figure.Figure at 0x18a204e0>"
      ]
     },
     "metadata": {},
     "output_type": "display_data"
    }
   ],
   "source": [
    "perfect_credit_data['unhealthy'] = -1\n",
    "perfect_credit_data.unhealthy = ((perfect_credit_data.collections_12_mths_ex_med > 0) | (perfect_credit_data.acc_now_delinq > 0) | (perfect_credit_data.tot_coll_amt > 0)).astype(np.int)\n",
    "perfect_credit_data['credit_history_length_string'] = perfect_credit_data.credit_history_length.astype(np.str)\n",
    "perfect_credit_data[['credit_history_length', 'unhealthy']].groupby('credit_history_length').unhealthy.agg(np.mean).plot(kind='bar', figsize=(12, 7), title='fig 2')"
   ]
  },
  {
   "cell_type": "markdown",
   "metadata": {},
   "source": [
    "从上图可以看出，在信用信息完善的贷款者样本当中，违约率和信用历史长短没有明显的正相关或负相关关系。**因此我们不能按信用历史对模型进行分组。**"
   ]
  },
  {
   "cell_type": "markdown",
   "metadata": {
    "collapsed": false
   },
   "source": [
    "那么接下来我们就需要探究哪个变量适合对模型进行分组，参考《信用评分模型技术与应用》P101可以知道，银行一般都是按信用历史长度以及还款历史对模型进行分组，那么我们来探究探究还款历史变量吧。"
   ]
  },
  {
   "cell_type": "code",
   "execution_count": 20,
   "metadata": {
    "collapsed": false
   },
   "outputs": [
    {
     "name": "stdout",
     "output_type": "stream",
     "text": [
      "delinq_2yrs: [  0.   2.   1.   3.   4.   6.   5.  15.   7.   9.  10.   8.  11.  13.]\n",
      "pub_rec: [  0.   2.   1.   3.   5.   4.  11.   7.   6.   9.   8.  10.  23.]\n",
      "collections_12_mths_ex_med: [ 0.  1.  2.  3.  4.]\n",
      "acc_now_delinq: [ 0.  1.  2.]\n",
      "tot_coll_amt: [   321.      0.    722. ...,   2766.   1303.  16467.]\n"
     ]
    }
   ],
   "source": [
    "payment_history.remove('mths_since_last_delinq')\n",
    "payment_history.remove('mths_since_last_record')\n",
    "\n",
    "credit_variable.remove('mths_since_last_delinq')\n",
    "credit_variable.remove('mths_since_last_record')\n",
    "\n",
    "for var in payment_history:\n",
    "    print \"%s: %s\" %(var, perfect_credit_data[var].unique())"
   ]
  },
  {
   "cell_type": "code",
   "execution_count": 15,
   "metadata": {
    "collapsed": true
   },
   "outputs": [],
   "source": [
    "import seaborn as sns"
   ]
  },
  {
   "cell_type": "code",
   "execution_count": 16,
   "metadata": {
    "collapsed": false
   },
   "outputs": [
    {
     "data": {
      "image/png": "[encoded data removed]",
      "text/plain": [
       "<matplotlib.figure.Figure at 0x33c07e80>"
      ]
     },
     "metadata": {},
     "output_type": "display_data"
    }
   ],
   "source": [
    "def plot_count_mean(variables, fig_size=(12, 8)):\n",
    "    var_need = len(variables)\n",
    "    f, ax_array = plt.subplots(var_need, 2)\n",
    "    f.set_size_inches(fig_size[0], fig_size[1])\n",
    "    for index in range(0, var_need):\n",
    "        var = variables[index]\n",
    "        # 绘制分组计数图\n",
    "        var_count = pd.value_counts(perfect_credit_data[var]).to_frame().reset_index()\n",
    "        var_count.columns = ['value', 'count']\n",
    "        sns.barplot(y='count', x='value', data=var_count, ax=ax_array[index][0])\n",
    "        ax_array[index][0].set(ylabel=var+'_count')\n",
    "        # 绘制分组违约率图\n",
    "        var_mean = perfect_credit_data[[var, 'unhealthy']].groupby(var).unhealthy.agg(np.mean).to_frame().reset_index()\n",
    "        var_mean.columns = ['value', 'mean']\n",
    "        sns.barplot(y='mean', x='value', data=var_mean, ax=ax_array[index][1])\n",
    "        ax_array[index][1].set(ylabel=var+'_mean')\n",
    "plot_count_mean(payment_history[0:(len(payment_history)-1)])"
   ]
  },
  {
   "cell_type": "code",
   "execution_count": 18,
   "metadata": {
    "collapsed": false
   },
   "outputs": [
    {
     "name": "stdout",
     "output_type": "stream",
     "text": [
      "3334\n",
      "0.179440258342\n"
     ]
    }
   ],
   "source": [
    "print perfect_credit_data.unhealthy.sum()\n",
    "print perfect_credit_data.unhealthy.sum()/float(len(perfect_credit_data.unhealthy))"
   ]
  },
  {
   "cell_type": "markdown",
   "metadata": {},
   "source": [
    "***<u>在此忽略了一个重要因素：违约总数不多，只有3334条违约记录，而总数18万条，违约率为17.9%。我们没必要再进行分组建模了，否则适得其反。</u>***"
   ]
  },
  {
   "cell_type": "markdown",
   "metadata": {},
   "source": [
    "**3）对预测变量进行栏位划分**\n",
    "* 了解每个预测变量得性质，是连续型还是标称型\n",
    "* 对每个连续型变量进行栏位划分\n",
    "* 对标称型变量验证是否还需进行栏位划分"
   ]
  },
  {
   "cell_type": "code",
   "execution_count": 21,
   "metadata": {
    "collapsed": false,
    "scrolled": false
   },
   "outputs": [
    {
     "name": "stdout",
     "output_type": "stream",
     "text": [
      "变量                        唯一值个数     \n",
      "delinq_2yrs                   14                  \n",
      "pub_rec                       13                  \n",
      "collections_12_mths_ex_med    5                   \n",
      "acc_now_delinq                3                   \n",
      "tot_coll_amt                  1513                \n",
      "dti                           3567                \n",
      "revol_bal                     14237               \n",
      "revol_util                    1040                \n",
      "total_acc                     88                  \n",
      "tot_cur_bal                   17888               \n",
      "total_bal_il                  16491               \n",
      "il_util                       1272                \n",
      "max_bal_bc                    9861                \n",
      "all_util                      1052                \n",
      "total_rev_hi_lim              1948                \n",
      "earliest_cr_line              537                 \n",
      "inq_last_6mths                6                   \n",
      "open_acc                      51                  \n",
      "open_acc_6m                   13                  \n",
      "open_il_6m                    35                  \n",
      "open_il_12m                   12                  \n",
      "open_il_24m                   17                  \n",
      "mths_since_rcnt_il            170                 \n",
      "open_rv_12m                   18                  \n",
      "open_rv_24m                   26                  \n",
      "inq_fi                        17                  \n",
      "total_cu_tl                   33                  \n"
     ]
    }
   ],
   "source": [
    "print \"%-29s %-20s\" %(\"变量\", \"唯一值个数\")\n",
    "for var in credit_variable:\n",
    "    unique_value = perfect_credit_data[var].unique()\n",
    "    print \"%-29s %-20s\" %(var, len(unique_value))"
   ]
  },
  {
   "cell_type": "code",
   "execution_count": 22,
   "metadata": {
    "collapsed": false
   },
   "outputs": [
    {
     "name": "stdout",
     "output_type": "stream",
     "text": [
      "['delinq_2yrs', 'pub_rec', 'collections_12_mths_ex_med', 'acc_now_delinq', 'inq_last_6mths', 'open_acc_6m', 'open_il_12m']\n",
      "['tot_coll_amt', 'dti', 'revol_bal', 'revol_util', 'total_acc', 'tot_cur_bal', 'total_bal_il', 'il_util', 'max_bal_bc', 'all_util', 'total_rev_hi_lim', 'earliest_cr_line', 'open_acc', 'open_il_6m', 'open_il_24m', 'mths_since_rcnt_il', 'open_rv_12m', 'open_rv_24m', 'inq_fi', 'total_cu_tl']\n"
     ]
    }
   ],
   "source": [
    "short_var = []\n",
    "long_var = []\n",
    "for var in credit_variable:\n",
    "    len_var = len(perfect_credit_data[var].unique())\n",
    "    if len_var < 16:\n",
    "        short_var.append(var)\n",
    "    else:\n",
    "        long_var.append(var)\n",
    "print short_var\n",
    "print long_var"
   ]
  },
  {
   "cell_type": "code",
   "execution_count": 23,
   "metadata": {
    "collapsed": false
   },
   "outputs": [
    {
     "data": {
      "image/png": "[encoded data removed]",
      "text/plain": [
       "<matplotlib.figure.Figure at 0x2f47ae80>"
      ]
     },
     "metadata": {},
     "output_type": "display_data"
    }
   ],
   "source": [
    "# 删除表现变量\n",
    "short_var.remove('collections_12_mths_ex_med')\n",
    "short_var.remove('acc_now_delinq')\n",
    "long_var.remove('tot_coll_amt')\n",
    "plot_count_mean(short_var, fig_size=(15, 15))"
   ]
  },
  {
   "cell_type": "markdown",
   "metadata": {},
   "source": [
    "根据上图，对short_var中的变量进行如下栏位划分：\n",
    "\n",
    "| 变量       |  分组      |\n",
    "| ------------- | -------------|\n",
    "| delinq_2yrs  | [0, 1, 4, 6, 9, 16] |\n",
    "|  pub_rec    | [0, 2, 6, 9, 25]    |\n",
    "| inq_last_6mths |[0, 1, 2, 3, 4, 5, 6] |\n",
    "| open_acc_6m   |[0, 3, 7, 15]  |\n",
    "| open_il_12m   |[0, 2, 4, 9, 13]    |"
   ]
  },
  {
   "cell_type": "code",
   "execution_count": 24,
   "metadata": {
    "collapsed": false,
    "scrolled": true
   },
   "outputs": [
    {
     "data": {
      "text/html": [
       "<div>\n",
       "<table border=\"1\" class=\"dataframe\">\n",
       "  <thead>\n",
       "    <tr style=\"text-align: right;\">\n",
       "      <th></th>\n",
       "      <th>delinq_2yrs</th>\n",
       "      <th>pub_rec</th>\n",
       "      <th>inq_last_6mths</th>\n",
       "      <th>open_acc_6m</th>\n",
       "      <th>open_il_12m</th>\n",
       "    </tr>\n",
       "  </thead>\n",
       "  <tbody>\n",
       "    <tr>\n",
       "      <th>0</th>\n",
       "      <td>0.0</td>\n",
       "      <td>0.0</td>\n",
       "      <td>0</td>\n",
       "      <td>0.0</td>\n",
       "      <td>0.0</td>\n",
       "    </tr>\n",
       "    <tr>\n",
       "      <th>1</th>\n",
       "      <td>1.0</td>\n",
       "      <td>2.0</td>\n",
       "      <td>1</td>\n",
       "      <td>3.0</td>\n",
       "      <td>2.0</td>\n",
       "    </tr>\n",
       "    <tr>\n",
       "      <th>2</th>\n",
       "      <td>4.0</td>\n",
       "      <td>6.0</td>\n",
       "      <td>2</td>\n",
       "      <td>7.0</td>\n",
       "      <td>4.0</td>\n",
       "    </tr>\n",
       "    <tr>\n",
       "      <th>3</th>\n",
       "      <td>6.0</td>\n",
       "      <td>9.0</td>\n",
       "      <td>3</td>\n",
       "      <td>15.0</td>\n",
       "      <td>9.0</td>\n",
       "    </tr>\n",
       "    <tr>\n",
       "      <th>4</th>\n",
       "      <td>9.0</td>\n",
       "      <td>25.0</td>\n",
       "      <td>4</td>\n",
       "      <td>NaN</td>\n",
       "      <td>13.0</td>\n",
       "    </tr>\n",
       "    <tr>\n",
       "      <th>5</th>\n",
       "      <td>16.0</td>\n",
       "      <td>NaN</td>\n",
       "      <td>5</td>\n",
       "      <td>NaN</td>\n",
       "      <td>NaN</td>\n",
       "    </tr>\n",
       "    <tr>\n",
       "      <th>6</th>\n",
       "      <td>NaN</td>\n",
       "      <td>NaN</td>\n",
       "      <td>6</td>\n",
       "      <td>NaN</td>\n",
       "      <td>NaN</td>\n",
       "    </tr>\n",
       "  </tbody>\n",
       "</table>\n",
       "</div>"
      ],
      "text/plain": [
       "   delinq_2yrs  pub_rec  inq_last_6mths  open_acc_6m  open_il_12m\n",
       "0          0.0      0.0               0          0.0          0.0\n",
       "1          1.0      2.0               1          3.0          2.0\n",
       "2          4.0      6.0               2          7.0          4.0\n",
       "3          6.0      9.0               3         15.0          9.0\n",
       "4          9.0     25.0               4          NaN         13.0\n",
       "5         16.0      NaN               5          NaN          NaN\n",
       "6          NaN      NaN               6          NaN          NaN"
      ]
     },
     "execution_count": 24,
     "metadata": {},
     "output_type": "execute_result"
    }
   ],
   "source": [
    "partition_percent_of_short_var = pd.DataFrame(-1, columns=short_var, index=[0, 1, 2, 3, 4, 5, 6])\n",
    "partition_percent_of_short_var[short_var[0]] = pd.Series([0, 1, 4, 6, 9, 16])\n",
    "partition_percent_of_short_var[short_var[1]] = pd.Series([0, 2, 6, 9, 25])\n",
    "partition_percent_of_short_var[short_var[2]] = pd.Series([0, 1, 2, 3, 4, 5, 6])\n",
    "partition_percent_of_short_var[short_var[3]] = pd.Series([0, 3, 7, 15])\n",
    "partition_percent_of_short_var[short_var[4]] = pd.Series([0, 2, 4, 9, 13])\n",
    "partition_percent_of_short_var"
   ]
  },
  {
   "cell_type": "code",
   "execution_count": 25,
   "metadata": {
    "collapsed": false
   },
   "outputs": [
    {
     "data": {
      "text/html": [
       "<div>\n",
       "<table border=\"1\" class=\"dataframe\">\n",
       "  <thead>\n",
       "    <tr style=\"text-align: right;\">\n",
       "      <th></th>\n",
       "      <th>dti</th>\n",
       "      <th>revol_bal</th>\n",
       "      <th>revol_util</th>\n",
       "      <th>total_acc</th>\n",
       "      <th>tot_cur_bal</th>\n",
       "      <th>total_bal_il</th>\n",
       "      <th>il_util</th>\n",
       "      <th>max_bal_bc</th>\n",
       "      <th>all_util</th>\n",
       "      <th>total_rev_hi_lim</th>\n",
       "      <th>open_acc</th>\n",
       "      <th>open_il_6m</th>\n",
       "      <th>open_il_24m</th>\n",
       "      <th>mths_since_rcnt_il</th>\n",
       "      <th>open_rv_12m</th>\n",
       "      <th>open_rv_24m</th>\n",
       "      <th>inq_fi</th>\n",
       "      <th>total_cu_tl</th>\n",
       "    </tr>\n",
       "  </thead>\n",
       "  <tbody>\n",
       "    <tr>\n",
       "      <th>count</th>\n",
       "      <td>18580.000000</td>\n",
       "      <td>18580.00000</td>\n",
       "      <td>18580.000000</td>\n",
       "      <td>18580.000000</td>\n",
       "      <td>1.858000e+04</td>\n",
       "      <td>18580.000000</td>\n",
       "      <td>18580.000000</td>\n",
       "      <td>18580.000000</td>\n",
       "      <td>18580.000000</td>\n",
       "      <td>18580.000000</td>\n",
       "      <td>18580.000000</td>\n",
       "      <td>18580.000000</td>\n",
       "      <td>18580.000000</td>\n",
       "      <td>18580.000000</td>\n",
       "      <td>18580.000000</td>\n",
       "      <td>18580.000000</td>\n",
       "      <td>18580.000000</td>\n",
       "      <td>18580.000000</td>\n",
       "    </tr>\n",
       "    <tr>\n",
       "      <th>mean</th>\n",
       "      <td>21.032587</td>\n",
       "      <td>17278.16211</td>\n",
       "      <td>51.879435</td>\n",
       "      <td>26.388590</td>\n",
       "      <td>1.475376e+05</td>\n",
       "      <td>40223.423197</td>\n",
       "      <td>71.639150</td>\n",
       "      <td>5821.181109</td>\n",
       "      <td>62.477944</td>\n",
       "      <td>34411.630194</td>\n",
       "      <td>12.559365</td>\n",
       "      <td>3.327126</td>\n",
       "      <td>1.870560</td>\n",
       "      <td>16.056351</td>\n",
       "      <td>1.390743</td>\n",
       "      <td>2.985953</td>\n",
       "      <td>0.995210</td>\n",
       "      <td>1.645802</td>\n",
       "    </tr>\n",
       "    <tr>\n",
       "      <th>std</th>\n",
       "      <td>74.109002</td>\n",
       "      <td>22476.39776</td>\n",
       "      <td>24.145574</td>\n",
       "      <td>12.202338</td>\n",
       "      <td>1.534772e+05</td>\n",
       "      <td>43386.172628</td>\n",
       "      <td>22.886046</td>\n",
       "      <td>5155.926895</td>\n",
       "      <td>18.685006</td>\n",
       "      <td>33833.530691</td>\n",
       "      <td>5.797893</td>\n",
       "      <td>3.115428</td>\n",
       "      <td>1.692518</td>\n",
       "      <td>18.686639</td>\n",
       "      <td>1.521385</td>\n",
       "      <td>2.614135</td>\n",
       "      <td>1.472473</td>\n",
       "      <td>2.821034</td>\n",
       "    </tr>\n",
       "    <tr>\n",
       "      <th>min</th>\n",
       "      <td>0.000000</td>\n",
       "      <td>0.00000</td>\n",
       "      <td>0.000000</td>\n",
       "      <td>4.000000</td>\n",
       "      <td>4.760000e+02</td>\n",
       "      <td>0.000000</td>\n",
       "      <td>0.000000</td>\n",
       "      <td>0.000000</td>\n",
       "      <td>0.000000</td>\n",
       "      <td>0.000000</td>\n",
       "      <td>2.000000</td>\n",
       "      <td>0.000000</td>\n",
       "      <td>0.000000</td>\n",
       "      <td>0.000000</td>\n",
       "      <td>0.000000</td>\n",
       "      <td>0.000000</td>\n",
       "      <td>0.000000</td>\n",
       "      <td>0.000000</td>\n",
       "    </tr>\n",
       "    <tr>\n",
       "      <th>25%</th>\n",
       "      <td>14.060000</td>\n",
       "      <td>6235.00000</td>\n",
       "      <td>33.800000</td>\n",
       "      <td>18.000000</td>\n",
       "      <td>3.585975e+04</td>\n",
       "      <td>14076.500000</td>\n",
       "      <td>58.700000</td>\n",
       "      <td>2404.000000</td>\n",
       "      <td>49.900000</td>\n",
       "      <td>14600.000000</td>\n",
       "      <td>8.000000</td>\n",
       "      <td>1.000000</td>\n",
       "      <td>1.000000</td>\n",
       "      <td>5.000000</td>\n",
       "      <td>0.000000</td>\n",
       "      <td>1.000000</td>\n",
       "      <td>0.000000</td>\n",
       "      <td>0.000000</td>\n",
       "    </tr>\n",
       "    <tr>\n",
       "      <th>50%</th>\n",
       "      <td>19.870000</td>\n",
       "      <td>11807.00000</td>\n",
       "      <td>51.700000</td>\n",
       "      <td>25.000000</td>\n",
       "      <td>9.121900e+04</td>\n",
       "      <td>27559.500000</td>\n",
       "      <td>75.000000</td>\n",
       "      <td>4464.000000</td>\n",
       "      <td>63.100000</td>\n",
       "      <td>25500.000000</td>\n",
       "      <td>11.000000</td>\n",
       "      <td>2.000000</td>\n",
       "      <td>1.000000</td>\n",
       "      <td>11.000000</td>\n",
       "      <td>1.000000</td>\n",
       "      <td>2.000000</td>\n",
       "      <td>0.000000</td>\n",
       "      <td>0.000000</td>\n",
       "    </tr>\n",
       "    <tr>\n",
       "      <th>75%</th>\n",
       "      <td>26.360000</td>\n",
       "      <td>21077.50000</td>\n",
       "      <td>70.325000</td>\n",
       "      <td>33.000000</td>\n",
       "      <td>2.179302e+05</td>\n",
       "      <td>51067.250000</td>\n",
       "      <td>87.700000</td>\n",
       "      <td>7677.500000</td>\n",
       "      <td>75.800000</td>\n",
       "      <td>42900.000000</td>\n",
       "      <td>16.000000</td>\n",
       "      <td>4.000000</td>\n",
       "      <td>3.000000</td>\n",
       "      <td>19.000000</td>\n",
       "      <td>2.000000</td>\n",
       "      <td>4.000000</td>\n",
       "      <td>1.000000</td>\n",
       "      <td>2.000000</td>\n",
       "    </tr>\n",
       "    <tr>\n",
       "      <th>max</th>\n",
       "      <td>9999.000000</td>\n",
       "      <td>647310.00000</td>\n",
       "      <td>134.300000</td>\n",
       "      <td>111.000000</td>\n",
       "      <td>2.004106e+06</td>\n",
       "      <td>878459.000000</td>\n",
       "      <td>223.300000</td>\n",
       "      <td>127305.000000</td>\n",
       "      <td>151.400000</td>\n",
       "      <td>755900.000000</td>\n",
       "      <td>65.000000</td>\n",
       "      <td>40.000000</td>\n",
       "      <td>19.000000</td>\n",
       "      <td>363.000000</td>\n",
       "      <td>22.000000</td>\n",
       "      <td>43.000000</td>\n",
       "      <td>16.000000</td>\n",
       "      <td>35.000000</td>\n",
       "    </tr>\n",
       "  </tbody>\n",
       "</table>\n",
       "</div>"
      ],
      "text/plain": [
       "                dti     revol_bal    revol_util     total_acc   tot_cur_bal  \\\n",
       "count  18580.000000   18580.00000  18580.000000  18580.000000  1.858000e+04   \n",
       "mean      21.032587   17278.16211     51.879435     26.388590  1.475376e+05   \n",
       "std       74.109002   22476.39776     24.145574     12.202338  1.534772e+05   \n",
       "min        0.000000       0.00000      0.000000      4.000000  4.760000e+02   \n",
       "25%       14.060000    6235.00000     33.800000     18.000000  3.585975e+04   \n",
       "50%       19.870000   11807.00000     51.700000     25.000000  9.121900e+04   \n",
       "75%       26.360000   21077.50000     70.325000     33.000000  2.179302e+05   \n",
       "max     9999.000000  647310.00000    134.300000    111.000000  2.004106e+06   \n",
       "\n",
       "        total_bal_il       il_util     max_bal_bc      all_util  \\\n",
       "count   18580.000000  18580.000000   18580.000000  18580.000000   \n",
       "mean    40223.423197     71.639150    5821.181109     62.477944   \n",
       "std     43386.172628     22.886046    5155.926895     18.685006   \n",
       "min         0.000000      0.000000       0.000000      0.000000   \n",
       "25%     14076.500000     58.700000    2404.000000     49.900000   \n",
       "50%     27559.500000     75.000000    4464.000000     63.100000   \n",
       "75%     51067.250000     87.700000    7677.500000     75.800000   \n",
       "max    878459.000000    223.300000  127305.000000    151.400000   \n",
       "\n",
       "       total_rev_hi_lim      open_acc    open_il_6m   open_il_24m  \\\n",
       "count      18580.000000  18580.000000  18580.000000  18580.000000   \n",
       "mean       34411.630194     12.559365      3.327126      1.870560   \n",
       "std        33833.530691      5.797893      3.115428      1.692518   \n",
       "min            0.000000      2.000000      0.000000      0.000000   \n",
       "25%        14600.000000      8.000000      1.000000      1.000000   \n",
       "50%        25500.000000     11.000000      2.000000      1.000000   \n",
       "75%        42900.000000     16.000000      4.000000      3.000000   \n",
       "max       755900.000000     65.000000     40.000000     19.000000   \n",
       "\n",
       "       mths_since_rcnt_il   open_rv_12m   open_rv_24m        inq_fi  \\\n",
       "count        18580.000000  18580.000000  18580.000000  18580.000000   \n",
       "mean            16.056351      1.390743      2.985953      0.995210   \n",
       "std             18.686639      1.521385      2.614135      1.472473   \n",
       "min              0.000000      0.000000      0.000000      0.000000   \n",
       "25%              5.000000      0.000000      1.000000      0.000000   \n",
       "50%             11.000000      1.000000      2.000000      0.000000   \n",
       "75%             19.000000      2.000000      4.000000      1.000000   \n",
       "max            363.000000     22.000000     43.000000     16.000000   \n",
       "\n",
       "        total_cu_tl  \n",
       "count  18580.000000  \n",
       "mean       1.645802  \n",
       "std        2.821034  \n",
       "min        0.000000  \n",
       "25%        0.000000  \n",
       "50%        0.000000  \n",
       "75%        2.000000  \n",
       "max       35.000000  "
      ]
     },
     "execution_count": 25,
     "metadata": {},
     "output_type": "execute_result"
    }
   ],
   "source": [
    "long_var.remove('earliest_cr_line')\n",
    "credit_variable.remove('earliest_cr_line')\n",
    "perfect_credit_data[long_var].describe()"
   ]
  },
  {
   "cell_type": "markdown",
   "metadata": {
    "collapsed": true
   },
   "source": [
    "***连续型变量该怎么进行栏位划分呢？***\n",
    "初步想法是利用四分位数。"
   ]
  },
  {
   "cell_type": "code",
   "execution_count": 26,
   "metadata": {
    "collapsed": false
   },
   "outputs": [
    {
     "data": {
      "text/html": [
       "<div>\n",
       "<table border=\"1\" class=\"dataframe\">\n",
       "  <thead>\n",
       "    <tr style=\"text-align: right;\">\n",
       "      <th></th>\n",
       "      <th>dti</th>\n",
       "      <th>dti_field</th>\n",
       "    </tr>\n",
       "  </thead>\n",
       "  <tbody>\n",
       "    <tr>\n",
       "      <th>466285</th>\n",
       "      <td>6.46</td>\n",
       "      <td>7.030</td>\n",
       "    </tr>\n",
       "    <tr>\n",
       "      <th>466286</th>\n",
       "      <td>7.28</td>\n",
       "      <td>7.030</td>\n",
       "    </tr>\n",
       "    <tr>\n",
       "      <th>466287</th>\n",
       "      <td>15.22</td>\n",
       "      <td>16.965</td>\n",
       "    </tr>\n",
       "    <tr>\n",
       "      <th>466288</th>\n",
       "      <td>31.04</td>\n",
       "      <td>5012.680</td>\n",
       "    </tr>\n",
       "    <tr>\n",
       "      <th>466289</th>\n",
       "      <td>10.78</td>\n",
       "      <td>7.030</td>\n",
       "    </tr>\n",
       "  </tbody>\n",
       "</table>\n",
       "</div>"
      ],
      "text/plain": [
       "          dti  dti_field\n",
       "466285   6.46      7.030\n",
       "466286   7.28      7.030\n",
       "466287  15.22     16.965\n",
       "466288  31.04   5012.680\n",
       "466289  10.78      7.030"
      ]
     },
     "execution_count": 26,
     "metadata": {},
     "output_type": "execute_result"
    }
   ],
   "source": [
    "def group_value(long_var_field, long_variables):\n",
    "    four_percent = perfect_credit_data[long_variables].describe()[3::]\n",
    "    for var in long_variables:\n",
    "        field_var = var+'_field'\n",
    "        long_var_field.append(field_var)\n",
    "        four_percent_var = four_percent[var].values\n",
    "        perfect_credit_data[field_var] = 0\n",
    "        for i in range(0, 4):\n",
    "            perfect_credit_data.loc[(perfect_credit_data[var] >= four_percent_var[i]) & (perfect_credit_data[var] < four_percent_var[i+1]), \\\n",
    "                                   field_var] = (four_percent_var[i] + four_percent_var[i+1])/2\n",
    "            if four_percent_var[i] == four_percent_var[i+1]:\n",
    "                perfect_credit_data.loc[(perfect_credit_data[var] == four_percent_var[i]), field_var] = four_percent_var[i]\n",
    "\n",
    "long_var_of_field = []\n",
    "group_value(long_var_of_field, long_var)\n",
    "perfect_credit_data[['dti', 'dti_field']].head()"
   ]
  },
  {
   "cell_type": "code",
   "execution_count": 27,
   "metadata": {
    "collapsed": false,
    "scrolled": false
   },
   "outputs": [
    {
     "data": {
      "image/png": "[encoded data removed]",
      "text/plain": [
       "<matplotlib.figure.Figure at 0x33c17a90>"
      ]
     },
     "metadata": {},
     "output_type": "display_data"
    }
   ],
   "source": [
    "plot_count_mean(long_var_of_field, fig_size=(12, 36))"
   ]
  },
  {
   "cell_type": "markdown",
   "metadata": {
    "collapsed": true
   },
   "source": [
    "根据上图可以看出，对于所有的long_var中的变量，直接使用四分位数进行栏位划分即可。当然，在图中，也展示了某些变量对违约率的预测效果并不明显，可以直接删除，这些变量为：total_acc_field、total_bal_il_field、il_util_field以及open_il_6m_field。"
   ]
  },
  {
   "cell_type": "code",
   "execution_count": 29,
   "metadata": {
    "collapsed": false
   },
   "outputs": [],
   "source": [
    "amount_of_debt.remove('total_acc')\n",
    "amount_of_debt.remove('il_util')\n",
    "amount_of_debt.remove('total_bal_il')\n",
    "new_credit.remove('open_il_6m')\n",
    "\n",
    "long_var_of_field.remove('total_acc_field')\n",
    "long_var_of_field.remove('total_bal_il_field')\n",
    "long_var_of_field.remove('il_util_field')\n",
    "long_var_of_field.remove('open_il_6m_field')\n",
    "\n",
    "long_var.remove('total_acc')\n",
    "long_var.remove('total_bal_il')\n",
    "long_var.remove('il_util')\n",
    "long_var.remove('open_il_6m')\n",
    "\n",
    "perfect_credit_data.drop(['total_acc', 'total_bal_il', 'il_util', 'open_il_6m'], 1, inplace=True)\n",
    "perfect_credit_data.drop(['total_acc_field', 'total_bal_il_field', 'il_util_field', 'open_il_6m_field'], 1, inplace=True)"
   ]
  },
  {
   "cell_type": "code",
   "execution_count": 30,
   "metadata": {
    "collapsed": false
   },
   "outputs": [
    {
     "data": {
      "text/html": [
       "<div>\n",
       "<table border=\"1\" class=\"dataframe\">\n",
       "  <thead>\n",
       "    <tr style=\"text-align: right;\">\n",
       "      <th></th>\n",
       "      <th>dti</th>\n",
       "      <th>revol_bal</th>\n",
       "      <th>revol_util</th>\n",
       "      <th>tot_cur_bal</th>\n",
       "      <th>max_bal_bc</th>\n",
       "      <th>all_util</th>\n",
       "      <th>total_rev_hi_lim</th>\n",
       "      <th>open_acc</th>\n",
       "      <th>open_il_24m</th>\n",
       "      <th>mths_since_rcnt_il</th>\n",
       "      <th>open_rv_12m</th>\n",
       "      <th>open_rv_24m</th>\n",
       "      <th>inq_fi</th>\n",
       "      <th>total_cu_tl</th>\n",
       "    </tr>\n",
       "  </thead>\n",
       "  <tbody>\n",
       "    <tr>\n",
       "      <th>0</th>\n",
       "      <td>0.00</td>\n",
       "      <td>0.0</td>\n",
       "      <td>0.000</td>\n",
       "      <td>476.00</td>\n",
       "      <td>0.0</td>\n",
       "      <td>0.0</td>\n",
       "      <td>0.0</td>\n",
       "      <td>2.0</td>\n",
       "      <td>0.0</td>\n",
       "      <td>0.0</td>\n",
       "      <td>0.0</td>\n",
       "      <td>0.0</td>\n",
       "      <td>0.0</td>\n",
       "      <td>0.0</td>\n",
       "    </tr>\n",
       "    <tr>\n",
       "      <th>1</th>\n",
       "      <td>14.06</td>\n",
       "      <td>6235.0</td>\n",
       "      <td>33.800</td>\n",
       "      <td>35859.75</td>\n",
       "      <td>2404.0</td>\n",
       "      <td>49.9</td>\n",
       "      <td>14600.0</td>\n",
       "      <td>8.0</td>\n",
       "      <td>1.0</td>\n",
       "      <td>5.0</td>\n",
       "      <td>0.0</td>\n",
       "      <td>1.0</td>\n",
       "      <td>0.0</td>\n",
       "      <td>0.0</td>\n",
       "    </tr>\n",
       "    <tr>\n",
       "      <th>2</th>\n",
       "      <td>19.87</td>\n",
       "      <td>11807.0</td>\n",
       "      <td>51.700</td>\n",
       "      <td>91219.00</td>\n",
       "      <td>4464.0</td>\n",
       "      <td>63.1</td>\n",
       "      <td>25500.0</td>\n",
       "      <td>11.0</td>\n",
       "      <td>1.0</td>\n",
       "      <td>11.0</td>\n",
       "      <td>1.0</td>\n",
       "      <td>2.0</td>\n",
       "      <td>0.0</td>\n",
       "      <td>0.0</td>\n",
       "    </tr>\n",
       "    <tr>\n",
       "      <th>3</th>\n",
       "      <td>26.36</td>\n",
       "      <td>21077.5</td>\n",
       "      <td>70.325</td>\n",
       "      <td>217930.25</td>\n",
       "      <td>7677.5</td>\n",
       "      <td>75.8</td>\n",
       "      <td>42900.0</td>\n",
       "      <td>16.0</td>\n",
       "      <td>3.0</td>\n",
       "      <td>19.0</td>\n",
       "      <td>2.0</td>\n",
       "      <td>4.0</td>\n",
       "      <td>1.0</td>\n",
       "      <td>2.0</td>\n",
       "    </tr>\n",
       "    <tr>\n",
       "      <th>4</th>\n",
       "      <td>9999.00</td>\n",
       "      <td>647310.0</td>\n",
       "      <td>134.300</td>\n",
       "      <td>2004106.00</td>\n",
       "      <td>127305.0</td>\n",
       "      <td>151.4</td>\n",
       "      <td>755900.0</td>\n",
       "      <td>65.0</td>\n",
       "      <td>19.0</td>\n",
       "      <td>363.0</td>\n",
       "      <td>22.0</td>\n",
       "      <td>43.0</td>\n",
       "      <td>16.0</td>\n",
       "      <td>35.0</td>\n",
       "    </tr>\n",
       "  </tbody>\n",
       "</table>\n",
       "</div>"
      ],
      "text/plain": [
       "       dti  revol_bal  revol_util  tot_cur_bal  max_bal_bc  all_util  \\\n",
       "0     0.00        0.0       0.000       476.00         0.0       0.0   \n",
       "1    14.06     6235.0      33.800     35859.75      2404.0      49.9   \n",
       "2    19.87    11807.0      51.700     91219.00      4464.0      63.1   \n",
       "3    26.36    21077.5      70.325    217930.25      7677.5      75.8   \n",
       "4  9999.00   647310.0     134.300   2004106.00    127305.0     151.4   \n",
       "\n",
       "   total_rev_hi_lim  open_acc  open_il_24m  mths_since_rcnt_il  open_rv_12m  \\\n",
       "0               0.0       2.0          0.0                 0.0          0.0   \n",
       "1           14600.0       8.0          1.0                 5.0          0.0   \n",
       "2           25500.0      11.0          1.0                11.0          1.0   \n",
       "3           42900.0      16.0          3.0                19.0          2.0   \n",
       "4          755900.0      65.0         19.0               363.0         22.0   \n",
       "\n",
       "   open_rv_24m  inq_fi  total_cu_tl  \n",
       "0          0.0     0.0          0.0  \n",
       "1          1.0     0.0          0.0  \n",
       "2          2.0     0.0          0.0  \n",
       "3          4.0     1.0          2.0  \n",
       "4         43.0    16.0         35.0  "
      ]
     },
     "execution_count": 30,
     "metadata": {},
     "output_type": "execute_result"
    }
   ],
   "source": [
    "partition_percent_of_long_var = pd.DataFrame(perfect_credit_data[long_var].describe()[3::], columns=long_var)\n",
    "partition_percent_of_long_var.index=[0, 1, 2, 3, 4]\n",
    "partition_percent_of_long_var"
   ]
  },
  {
   "cell_type": "markdown",
   "metadata": {
    "collapsed": true
   },
   "source": [
    "从上图也可以看出，有些变量根据四分位数划分导致栏位过少，这些变量是：['open_il_24m', 'inq_fi', 'total_cu_tl']。那么我们应该重新划分栏位。"
   ]
  },
  {
   "cell_type": "code",
   "execution_count": 226,
   "metadata": {
    "collapsed": false
   },
   "outputs": [],
   "source": [
    "partition_percent_of_long_var.drop('open_il_24m', 1, inplace=True)\n",
    "partition_percent_of_long_var.drop('inq_fi', 1, inplace=True)\n",
    "partition_percent_of_long_var.drop('total_cu_tl', 1, inplace=True)"
   ]
  },
  {
   "cell_type": "code",
   "execution_count": 31,
   "metadata": {
    "collapsed": false
   },
   "outputs": [],
   "source": [
    "re_partiton_var = ['open_il_24m', 'inq_fi', 'total_cu_tl']\n",
    "for var in re_partiton_var:\n",
    "    long_var.remove(var)\n",
    "    long_var_of_field.remove(var+'_field')"
   ]
  },
  {
   "cell_type": "code",
   "execution_count": 33,
   "metadata": {
    "collapsed": false
   },
   "outputs": [
    {
     "data": {
      "text/html": [
       "<div>\n",
       "<table border=\"1\" class=\"dataframe\">\n",
       "  <thead>\n",
       "    <tr style=\"text-align: right;\">\n",
       "      <th></th>\n",
       "      <th>open_il_24m</th>\n",
       "      <th>inq_fi</th>\n",
       "      <th>total_cu_tl</th>\n",
       "    </tr>\n",
       "  </thead>\n",
       "  <tbody>\n",
       "    <tr>\n",
       "      <th>0</th>\n",
       "      <td>0.0000</td>\n",
       "      <td>0.0</td>\n",
       "      <td>0.0000</td>\n",
       "    </tr>\n",
       "    <tr>\n",
       "      <th>1</th>\n",
       "      <td>1.1875</td>\n",
       "      <td>1.0</td>\n",
       "      <td>2.1875</td>\n",
       "    </tr>\n",
       "    <tr>\n",
       "      <th>2</th>\n",
       "      <td>2.3750</td>\n",
       "      <td>2.0</td>\n",
       "      <td>4.3750</td>\n",
       "    </tr>\n",
       "    <tr>\n",
       "      <th>3</th>\n",
       "      <td>4.7500</td>\n",
       "      <td>4.0</td>\n",
       "      <td>8.7500</td>\n",
       "    </tr>\n",
       "    <tr>\n",
       "      <th>4</th>\n",
       "      <td>19.0000</td>\n",
       "      <td>16.0</td>\n",
       "      <td>35.0000</td>\n",
       "    </tr>\n",
       "  </tbody>\n",
       "</table>\n",
       "</div>"
      ],
      "text/plain": [
       "   open_il_24m  inq_fi  total_cu_tl\n",
       "0       0.0000     0.0       0.0000\n",
       "1       1.1875     1.0       2.1875\n",
       "2       2.3750     2.0       4.3750\n",
       "3       4.7500     4.0       8.7500\n",
       "4      19.0000    16.0      35.0000"
      ]
     },
     "execution_count": 33,
     "metadata": {},
     "output_type": "execute_result"
    }
   ],
   "source": [
    "partition_percent = pd.DataFrame(0, columns=re_partiton_var, index=['0', '1', '2', '3', '4'])\n",
    "for i in range(0, len(re_partiton_var)):\n",
    "    max_value = perfect_credit_data[re_partiton_var[i]].describe()[-1]\n",
    "    partition_percent[re_partiton_var[i]] = pd.Series([0, max_value/16, max_value/8, max_value/4, max_value]).values\n",
    "partition_percent"
   ]
  },
  {
   "cell_type": "code",
   "execution_count": 34,
   "metadata": {
    "collapsed": false
   },
   "outputs": [
    {
     "data": {
      "image/png": "[encoded data removed]",
      "text/plain": [
       "<matplotlib.figure.Figure at 0x19b46e48>"
      ]
     },
     "metadata": {},
     "output_type": "display_data"
    }
   ],
   "source": [
    "def re_group_value(re_partiton_var_of_field, re_partiton_var, partition_percent):\n",
    "    for var in re_partiton_var:\n",
    "        field_var = var+'_field'\n",
    "        re_partiton_var_of_field.append(field_var)\n",
    "        four_percent_var = partition_percent[var].values\n",
    "        perfect_credit_data[field_var] = 0\n",
    "        for i in range(0, 4):\n",
    "            perfect_credit_data.loc[(perfect_credit_data[var] >= four_percent_var[i]) & (perfect_credit_data[var] < four_percent_var[i+1]), \\\n",
    "                                   field_var] = (four_percent_var[i] + four_percent_var[i+1])/2\n",
    "            if four_percent_var[i] == four_percent_var[i+1]:\n",
    "                perfect_credit_data.loc[(perfect_credit_data[var] == four_percent_var[i]), field_var] = four_percent_var[i]\n",
    "\n",
    "re_partiton_var_of_field = []\n",
    "re_group_value(re_partiton_var_of_field, re_partiton_var, partition_percent)\n",
    "plot_count_mean(re_partiton_var_of_field)"
   ]
  },
  {
   "cell_type": "markdown",
   "metadata": {},
   "source": [
    "根据上图，删除预测效果不好的变量。"
   ]
  },
  {
   "cell_type": "code",
   "execution_count": 35,
   "metadata": {
    "collapsed": false
   },
   "outputs": [
    {
     "name": "stdout",
     "output_type": "stream",
     "text": [
      "['total_cu_tl']\n",
      "['total_cu_tl_field']\n"
     ]
    }
   ],
   "source": [
    "for i in range(0, 2):\n",
    "    tmp = re_partiton_var[0]\n",
    "    re_partiton_var.remove(tmp)\n",
    "    re_partiton_var_of_field.remove(tmp+'_field')\n",
    "\n",
    "print re_partiton_var\n",
    "print re_partiton_var_of_field"
   ]
  },
  {
   "cell_type": "code",
   "execution_count": 36,
   "metadata": {
    "collapsed": false
   },
   "outputs": [
    {
     "data": {
      "text/html": [
       "<div>\n",
       "<table border=\"1\" class=\"dataframe\">\n",
       "  <thead>\n",
       "    <tr style=\"text-align: right;\">\n",
       "      <th></th>\n",
       "      <th>total_cu_tl</th>\n",
       "    </tr>\n",
       "  </thead>\n",
       "  <tbody>\n",
       "    <tr>\n",
       "      <th>0</th>\n",
       "      <td>0.0000</td>\n",
       "    </tr>\n",
       "    <tr>\n",
       "      <th>1</th>\n",
       "      <td>2.1875</td>\n",
       "    </tr>\n",
       "    <tr>\n",
       "      <th>2</th>\n",
       "      <td>4.3750</td>\n",
       "    </tr>\n",
       "    <tr>\n",
       "      <th>3</th>\n",
       "      <td>8.7500</td>\n",
       "    </tr>\n",
       "    <tr>\n",
       "      <th>4</th>\n",
       "      <td>35.0000</td>\n",
       "    </tr>\n",
       "  </tbody>\n",
       "</table>\n",
       "</div>"
      ],
      "text/plain": [
       "   total_cu_tl\n",
       "0       0.0000\n",
       "1       2.1875\n",
       "2       4.3750\n",
       "3       8.7500\n",
       "4      35.0000"
      ]
     },
     "execution_count": 36,
     "metadata": {},
     "output_type": "execute_result"
    }
   ],
   "source": [
    "partition_percent_of_re_partiton_var = pd.DataFrame(partition_percent[re_partiton_var], columns=re_partiton_var)\n",
    "partition_percent_of_re_partiton_var"
   ]
  },
  {
   "cell_type": "markdown",
   "metadata": {},
   "source": [
    "**4）计算栏位划分之后各变量的WOE值**"
   ]
  },
  {
   "cell_type": "code",
   "execution_count": 37,
   "metadata": {
    "collapsed": false
   },
   "outputs": [],
   "source": [
    "def compute_woe(variables_woe, variables, partition_percent):\n",
    "    unhealthy_percent_of_not_partition = perfect_credit_data.unhealthy.mean()\n",
    "    unhealthy_divide_healthy_of_not_partition = unhealthy_percent_of_not_partition / (1-unhealthy_percent_of_not_partition)\n",
    "    for var in variables:\n",
    "        # 创建woe变量\n",
    "        var_woe = var+'_woe'\n",
    "        variables_woe.append(var_woe)\n",
    "        # 为woe变量赋值\n",
    "        perfect_credit_data[var_woe] = 0\n",
    "        partition_percent_of_var = partition_percent[var].dropna().values\n",
    "        for index in range(0, len(partition_percent_of_var)-1):\n",
    "            where_clause = (perfect_credit_data[var] >= partition_percent_of_var[index]) & (perfect_credit_data[var] < partition_percent_of_var[index+1])\n",
    "            unhealthy_mean = perfect_credit_data.loc[where_clause, 'unhealthy'].mean()\n",
    "            if unhealthy_mean == 1:\n",
    "                perfect_credit_data.loc[where_clause, var_woe] = 99999\n",
    "            else:\n",
    "                unhealthy_divide_healthy = unhealthy_mean / (1-unhealthy_mean)\n",
    "                woe_not_ln = unhealthy_divide_healthy/unhealthy_divide_healthy_of_not_partition\n",
    "                if woe_not_ln != 0:\n",
    "                    perfect_credit_data.loc[where_clause, var_woe] = math.log(woe_not_ln, e)\n",
    "                else:\n",
    "                    perfect_credit_data.loc[where_clause, var_woe] = -1\n",
    "\n",
    "            \n",
    "short_var_woe = []\n",
    "compute_woe(short_var_woe, short_var, partition_percent_of_short_var)\n",
    "\n",
    "long_var_woe = []\n",
    "compute_woe(long_var_woe, long_var, partition_percent_of_long_var)\n",
    "\n",
    "re_partiton_var_woe = []\n",
    "compute_woe(re_partiton_var_woe, re_partiton_var, partition_percent_of_re_partiton_var)"
   ]
  },
  {
   "cell_type": "code",
   "execution_count": 38,
   "metadata": {
    "collapsed": false,
    "scrolled": true
   },
   "outputs": [
    {
     "data": {
      "text/html": [
       "<div>\n",
       "<table border=\"1\" class=\"dataframe\">\n",
       "  <thead>\n",
       "    <tr style=\"text-align: right;\">\n",
       "      <th></th>\n",
       "      <th>delinq_2yrs</th>\n",
       "      <th>pub_rec</th>\n",
       "      <th>inq_last_6mths</th>\n",
       "      <th>open_acc_6m</th>\n",
       "      <th>open_il_12m</th>\n",
       "      <th>delinq_2yrs_woe</th>\n",
       "      <th>pub_rec_woe</th>\n",
       "      <th>inq_last_6mths_woe</th>\n",
       "      <th>open_acc_6m_woe</th>\n",
       "      <th>open_il_12m_woe</th>\n",
       "    </tr>\n",
       "  </thead>\n",
       "  <tbody>\n",
       "    <tr>\n",
       "      <th>466285</th>\n",
       "      <td>0.0</td>\n",
       "      <td>0.0</td>\n",
       "      <td>0.0</td>\n",
       "      <td>1.0</td>\n",
       "      <td>0.0</td>\n",
       "      <td>-0.095504</td>\n",
       "      <td>-0.035777</td>\n",
       "      <td>-0.060865</td>\n",
       "      <td>-0.034067</td>\n",
       "      <td>-0.027846</td>\n",
       "    </tr>\n",
       "    <tr>\n",
       "      <th>466286</th>\n",
       "      <td>0.0</td>\n",
       "      <td>0.0</td>\n",
       "      <td>0.0</td>\n",
       "      <td>0.0</td>\n",
       "      <td>1.0</td>\n",
       "      <td>-0.095504</td>\n",
       "      <td>-0.035777</td>\n",
       "      <td>-0.060865</td>\n",
       "      <td>-0.034067</td>\n",
       "      <td>-0.027846</td>\n",
       "    </tr>\n",
       "    <tr>\n",
       "      <th>466287</th>\n",
       "      <td>2.0</td>\n",
       "      <td>0.0</td>\n",
       "      <td>0.0</td>\n",
       "      <td>0.0</td>\n",
       "      <td>0.0</td>\n",
       "      <td>0.312291</td>\n",
       "      <td>-0.035777</td>\n",
       "      <td>-0.060865</td>\n",
       "      <td>-0.034067</td>\n",
       "      <td>-0.027846</td>\n",
       "    </tr>\n",
       "    <tr>\n",
       "      <th>466288</th>\n",
       "      <td>0.0</td>\n",
       "      <td>0.0</td>\n",
       "      <td>1.0</td>\n",
       "      <td>1.0</td>\n",
       "      <td>0.0</td>\n",
       "      <td>-0.095504</td>\n",
       "      <td>-0.035777</td>\n",
       "      <td>0.007813</td>\n",
       "      <td>-0.034067</td>\n",
       "      <td>-0.027846</td>\n",
       "    </tr>\n",
       "    <tr>\n",
       "      <th>466289</th>\n",
       "      <td>0.0</td>\n",
       "      <td>0.0</td>\n",
       "      <td>0.0</td>\n",
       "      <td>0.0</td>\n",
       "      <td>0.0</td>\n",
       "      <td>-0.095504</td>\n",
       "      <td>-0.035777</td>\n",
       "      <td>-0.060865</td>\n",
       "      <td>-0.034067</td>\n",
       "      <td>-0.027846</td>\n",
       "    </tr>\n",
       "    <tr>\n",
       "      <th>466290</th>\n",
       "      <td>0.0</td>\n",
       "      <td>2.0</td>\n",
       "      <td>1.0</td>\n",
       "      <td>0.0</td>\n",
       "      <td>2.0</td>\n",
       "      <td>-0.095504</td>\n",
       "      <td>0.792081</td>\n",
       "      <td>0.007813</td>\n",
       "      <td>-0.034067</td>\n",
       "      <td>0.094644</td>\n",
       "    </tr>\n",
       "    <tr>\n",
       "      <th>466291</th>\n",
       "      <td>0.0</td>\n",
       "      <td>0.0</td>\n",
       "      <td>1.0</td>\n",
       "      <td>0.0</td>\n",
       "      <td>0.0</td>\n",
       "      <td>-0.095504</td>\n",
       "      <td>-0.035777</td>\n",
       "      <td>0.007813</td>\n",
       "      <td>-0.034067</td>\n",
       "      <td>-0.027846</td>\n",
       "    </tr>\n",
       "    <tr>\n",
       "      <th>466292</th>\n",
       "      <td>0.0</td>\n",
       "      <td>0.0</td>\n",
       "      <td>1.0</td>\n",
       "      <td>2.0</td>\n",
       "      <td>0.0</td>\n",
       "      <td>-0.095504</td>\n",
       "      <td>-0.035777</td>\n",
       "      <td>0.007813</td>\n",
       "      <td>-0.034067</td>\n",
       "      <td>-0.027846</td>\n",
       "    </tr>\n",
       "    <tr>\n",
       "      <th>466293</th>\n",
       "      <td>0.0</td>\n",
       "      <td>0.0</td>\n",
       "      <td>0.0</td>\n",
       "      <td>0.0</td>\n",
       "      <td>0.0</td>\n",
       "      <td>-0.095504</td>\n",
       "      <td>-0.035777</td>\n",
       "      <td>-0.060865</td>\n",
       "      <td>-0.034067</td>\n",
       "      <td>-0.027846</td>\n",
       "    </tr>\n",
       "    <tr>\n",
       "      <th>466295</th>\n",
       "      <td>0.0</td>\n",
       "      <td>0.0</td>\n",
       "      <td>1.0</td>\n",
       "      <td>0.0</td>\n",
       "      <td>0.0</td>\n",
       "      <td>-0.095504</td>\n",
       "      <td>-0.035777</td>\n",
       "      <td>0.007813</td>\n",
       "      <td>-0.034067</td>\n",
       "      <td>-0.027846</td>\n",
       "    </tr>\n",
       "  </tbody>\n",
       "</table>\n",
       "</div>"
      ],
      "text/plain": [
       "        delinq_2yrs  pub_rec  inq_last_6mths  open_acc_6m  open_il_12m  \\\n",
       "466285          0.0      0.0             0.0          1.0          0.0   \n",
       "466286          0.0      0.0             0.0          0.0          1.0   \n",
       "466287          2.0      0.0             0.0          0.0          0.0   \n",
       "466288          0.0      0.0             1.0          1.0          0.0   \n",
       "466289          0.0      0.0             0.0          0.0          0.0   \n",
       "466290          0.0      2.0             1.0          0.0          2.0   \n",
       "466291          0.0      0.0             1.0          0.0          0.0   \n",
       "466292          0.0      0.0             1.0          2.0          0.0   \n",
       "466293          0.0      0.0             0.0          0.0          0.0   \n",
       "466295          0.0      0.0             1.0          0.0          0.0   \n",
       "\n",
       "        delinq_2yrs_woe  pub_rec_woe  inq_last_6mths_woe  open_acc_6m_woe  \\\n",
       "466285        -0.095504    -0.035777           -0.060865        -0.034067   \n",
       "466286        -0.095504    -0.035777           -0.060865        -0.034067   \n",
       "466287         0.312291    -0.035777           -0.060865        -0.034067   \n",
       "466288        -0.095504    -0.035777            0.007813        -0.034067   \n",
       "466289        -0.095504    -0.035777           -0.060865        -0.034067   \n",
       "466290        -0.095504     0.792081            0.007813        -0.034067   \n",
       "466291        -0.095504    -0.035777            0.007813        -0.034067   \n",
       "466292        -0.095504    -0.035777            0.007813        -0.034067   \n",
       "466293        -0.095504    -0.035777           -0.060865        -0.034067   \n",
       "466295        -0.095504    -0.035777            0.007813        -0.034067   \n",
       "\n",
       "        open_il_12m_woe  \n",
       "466285        -0.027846  \n",
       "466286        -0.027846  \n",
       "466287        -0.027846  \n",
       "466288        -0.027846  \n",
       "466289        -0.027846  \n",
       "466290         0.094644  \n",
       "466291        -0.027846  \n",
       "466292        -0.027846  \n",
       "466293        -0.027846  \n",
       "466295        -0.027846  "
      ]
     },
     "execution_count": 38,
     "metadata": {},
     "output_type": "execute_result"
    }
   ],
   "source": [
    "perfect_credit_data[short_var+short_var_woe].head(10)"
   ]
  },
  {
   "cell_type": "code",
   "execution_count": 39,
   "metadata": {
    "collapsed": false
   },
   "outputs": [
    {
     "data": {
      "text/html": [
       "<div>\n",
       "<table border=\"1\" class=\"dataframe\">\n",
       "  <thead>\n",
       "    <tr style=\"text-align: right;\">\n",
       "      <th></th>\n",
       "      <th>dti</th>\n",
       "      <th>revol_bal</th>\n",
       "      <th>revol_util</th>\n",
       "      <th>tot_cur_bal</th>\n",
       "      <th>max_bal_bc</th>\n",
       "      <th>all_util</th>\n",
       "      <th>total_rev_hi_lim</th>\n",
       "      <th>open_acc</th>\n",
       "      <th>mths_since_rcnt_il</th>\n",
       "      <th>open_rv_12m</th>\n",
       "      <th>...</th>\n",
       "      <th>revol_bal_woe</th>\n",
       "      <th>revol_util_woe</th>\n",
       "      <th>tot_cur_bal_woe</th>\n",
       "      <th>max_bal_bc_woe</th>\n",
       "      <th>all_util_woe</th>\n",
       "      <th>total_rev_hi_lim_woe</th>\n",
       "      <th>open_acc_woe</th>\n",
       "      <th>mths_since_rcnt_il_woe</th>\n",
       "      <th>open_rv_12m_woe</th>\n",
       "      <th>open_rv_24m_woe</th>\n",
       "    </tr>\n",
       "  </thead>\n",
       "  <tbody>\n",
       "    <tr>\n",
       "      <th>466285</th>\n",
       "      <td>6.46</td>\n",
       "      <td>14277.0</td>\n",
       "      <td>27.4</td>\n",
       "      <td>146867.0</td>\n",
       "      <td>5020.0</td>\n",
       "      <td>40.1</td>\n",
       "      <td>52200.0</td>\n",
       "      <td>17.0</td>\n",
       "      <td>28.0</td>\n",
       "      <td>0.0</td>\n",
       "      <td>...</td>\n",
       "      <td>-0.260358</td>\n",
       "      <td>0.246428</td>\n",
       "      <td>0.092984</td>\n",
       "      <td>-0.211423</td>\n",
       "      <td>0.089277</td>\n",
       "      <td>-0.616201</td>\n",
       "      <td>-0.032380</td>\n",
       "      <td>-0.074801</td>\n",
       "      <td>-0.182672</td>\n",
       "      <td>-0.154593</td>\n",
       "    </tr>\n",
       "    <tr>\n",
       "      <th>466286</th>\n",
       "      <td>7.28</td>\n",
       "      <td>7158.0</td>\n",
       "      <td>26.7</td>\n",
       "      <td>165450.0</td>\n",
       "      <td>3081.0</td>\n",
       "      <td>57.9</td>\n",
       "      <td>26800.0</td>\n",
       "      <td>15.0</td>\n",
       "      <td>11.0</td>\n",
       "      <td>0.0</td>\n",
       "      <td>...</td>\n",
       "      <td>0.233148</td>\n",
       "      <td>0.246428</td>\n",
       "      <td>0.092984</td>\n",
       "      <td>0.115441</td>\n",
       "      <td>-0.016446</td>\n",
       "      <td>-0.138020</td>\n",
       "      <td>0.034111</td>\n",
       "      <td>-0.027993</td>\n",
       "      <td>-0.182672</td>\n",
       "      <td>-0.008101</td>\n",
       "    </tr>\n",
       "    <tr>\n",
       "      <th>466287</th>\n",
       "      <td>15.22</td>\n",
       "      <td>1058.0</td>\n",
       "      <td>24.6</td>\n",
       "      <td>4888.0</td>\n",
       "      <td>367.0</td>\n",
       "      <td>22.4</td>\n",
       "      <td>4300.0</td>\n",
       "      <td>6.0</td>\n",
       "      <td>47.0</td>\n",
       "      <td>0.0</td>\n",
       "      <td>...</td>\n",
       "      <td>0.484556</td>\n",
       "      <td>0.246428</td>\n",
       "      <td>0.144580</td>\n",
       "      <td>0.534375</td>\n",
       "      <td>0.089277</td>\n",
       "      <td>0.407977</td>\n",
       "      <td>-0.078535</td>\n",
       "      <td>-0.074801</td>\n",
       "      <td>-0.182672</td>\n",
       "      <td>-0.316417</td>\n",
       "    </tr>\n",
       "    <tr>\n",
       "      <th>466288</th>\n",
       "      <td>31.04</td>\n",
       "      <td>5812.0</td>\n",
       "      <td>40.9</td>\n",
       "      <td>41166.0</td>\n",
       "      <td>3118.0</td>\n",
       "      <td>67.4</td>\n",
       "      <td>14200.0</td>\n",
       "      <td>10.0</td>\n",
       "      <td>13.0</td>\n",
       "      <td>1.0</td>\n",
       "      <td>...</td>\n",
       "      <td>0.484556</td>\n",
       "      <td>0.220221</td>\n",
       "      <td>0.002192</td>\n",
       "      <td>0.115441</td>\n",
       "      <td>0.011100</td>\n",
       "      <td>0.407977</td>\n",
       "      <td>0.040267</td>\n",
       "      <td>-0.027993</td>\n",
       "      <td>-0.047740</td>\n",
       "      <td>-0.154593</td>\n",
       "    </tr>\n",
       "    <tr>\n",
       "      <th>466289</th>\n",
       "      <td>10.78</td>\n",
       "      <td>7869.0</td>\n",
       "      <td>56.2</td>\n",
       "      <td>189699.0</td>\n",
       "      <td>2081.0</td>\n",
       "      <td>64.7</td>\n",
       "      <td>14000.0</td>\n",
       "      <td>6.0</td>\n",
       "      <td>19.0</td>\n",
       "      <td>0.0</td>\n",
       "      <td>...</td>\n",
       "      <td>0.233148</td>\n",
       "      <td>-0.086980</td>\n",
       "      <td>0.092984</td>\n",
       "      <td>0.534375</td>\n",
       "      <td>0.011100</td>\n",
       "      <td>0.407977</td>\n",
       "      <td>-0.078535</td>\n",
       "      <td>-0.074801</td>\n",
       "      <td>-0.182672</td>\n",
       "      <td>-0.008101</td>\n",
       "    </tr>\n",
       "    <tr>\n",
       "      <th>466290</th>\n",
       "      <td>13.89</td>\n",
       "      <td>12703.0</td>\n",
       "      <td>35.2</td>\n",
       "      <td>312996.0</td>\n",
       "      <td>7045.0</td>\n",
       "      <td>41.5</td>\n",
       "      <td>36100.0</td>\n",
       "      <td>7.0</td>\n",
       "      <td>8.0</td>\n",
       "      <td>1.0</td>\n",
       "      <td>...</td>\n",
       "      <td>-0.260358</td>\n",
       "      <td>0.220221</td>\n",
       "      <td>-0.272369</td>\n",
       "      <td>-0.211423</td>\n",
       "      <td>0.089277</td>\n",
       "      <td>-0.138020</td>\n",
       "      <td>-0.078535</td>\n",
       "      <td>0.065712</td>\n",
       "      <td>-0.047740</td>\n",
       "      <td>-0.154593</td>\n",
       "    </tr>\n",
       "    <tr>\n",
       "      <th>466291</th>\n",
       "      <td>26.02</td>\n",
       "      <td>20862.0</td>\n",
       "      <td>54.3</td>\n",
       "      <td>305781.0</td>\n",
       "      <td>8937.0</td>\n",
       "      <td>56.5</td>\n",
       "      <td>38400.0</td>\n",
       "      <td>9.0</td>\n",
       "      <td>13.0</td>\n",
       "      <td>0.0</td>\n",
       "      <td>...</td>\n",
       "      <td>-0.260358</td>\n",
       "      <td>-0.086980</td>\n",
       "      <td>-0.272369</td>\n",
       "      <td>-0.692487</td>\n",
       "      <td>-0.016446</td>\n",
       "      <td>-0.138020</td>\n",
       "      <td>0.040267</td>\n",
       "      <td>-0.027993</td>\n",
       "      <td>-0.182672</td>\n",
       "      <td>-0.154593</td>\n",
       "    </tr>\n",
       "    <tr>\n",
       "      <th>466292</th>\n",
       "      <td>5.91</td>\n",
       "      <td>2765.0</td>\n",
       "      <td>29.7</td>\n",
       "      <td>144904.0</td>\n",
       "      <td>722.0</td>\n",
       "      <td>33.6</td>\n",
       "      <td>9300.0</td>\n",
       "      <td>7.0</td>\n",
       "      <td>21.0</td>\n",
       "      <td>3.0</td>\n",
       "      <td>...</td>\n",
       "      <td>0.484556</td>\n",
       "      <td>0.246428</td>\n",
       "      <td>0.092984</td>\n",
       "      <td>0.534375</td>\n",
       "      <td>0.089277</td>\n",
       "      <td>0.407977</td>\n",
       "      <td>-0.078535</td>\n",
       "      <td>-0.074801</td>\n",
       "      <td>0.181491</td>\n",
       "      <td>-0.008101</td>\n",
       "    </tr>\n",
       "    <tr>\n",
       "      <th>466293</th>\n",
       "      <td>10.20</td>\n",
       "      <td>8822.0</td>\n",
       "      <td>68.4</td>\n",
       "      <td>12798.0</td>\n",
       "      <td>4522.0</td>\n",
       "      <td>75.7</td>\n",
       "      <td>12900.0</td>\n",
       "      <td>5.0</td>\n",
       "      <td>338.0</td>\n",
       "      <td>0.0</td>\n",
       "      <td>...</td>\n",
       "      <td>0.233148</td>\n",
       "      <td>-0.086980</td>\n",
       "      <td>0.144580</td>\n",
       "      <td>-0.211423</td>\n",
       "      <td>0.011100</td>\n",
       "      <td>0.407977</td>\n",
       "      <td>-0.078535</td>\n",
       "      <td>-0.074801</td>\n",
       "      <td>-0.182672</td>\n",
       "      <td>-0.316417</td>\n",
       "    </tr>\n",
       "    <tr>\n",
       "      <th>466295</th>\n",
       "      <td>10.24</td>\n",
       "      <td>3454.0</td>\n",
       "      <td>10.3</td>\n",
       "      <td>127412.0</td>\n",
       "      <td>3309.0</td>\n",
       "      <td>7.3</td>\n",
       "      <td>33600.0</td>\n",
       "      <td>9.0</td>\n",
       "      <td>73.0</td>\n",
       "      <td>0.0</td>\n",
       "      <td>...</td>\n",
       "      <td>0.484556</td>\n",
       "      <td>0.246428</td>\n",
       "      <td>0.092984</td>\n",
       "      <td>0.115441</td>\n",
       "      <td>0.089277</td>\n",
       "      <td>-0.138020</td>\n",
       "      <td>0.040267</td>\n",
       "      <td>-0.074801</td>\n",
       "      <td>-0.182672</td>\n",
       "      <td>-0.154593</td>\n",
       "    </tr>\n",
       "  </tbody>\n",
       "</table>\n",
       "<p>10 rows × 22 columns</p>\n",
       "</div>"
      ],
      "text/plain": [
       "          dti  revol_bal  revol_util  tot_cur_bal  max_bal_bc  all_util  \\\n",
       "466285   6.46    14277.0        27.4     146867.0      5020.0      40.1   \n",
       "466286   7.28     7158.0        26.7     165450.0      3081.0      57.9   \n",
       "466287  15.22     1058.0        24.6       4888.0       367.0      22.4   \n",
       "466288  31.04     5812.0        40.9      41166.0      3118.0      67.4   \n",
       "466289  10.78     7869.0        56.2     189699.0      2081.0      64.7   \n",
       "466290  13.89    12703.0        35.2     312996.0      7045.0      41.5   \n",
       "466291  26.02    20862.0        54.3     305781.0      8937.0      56.5   \n",
       "466292   5.91     2765.0        29.7     144904.0       722.0      33.6   \n",
       "466293  10.20     8822.0        68.4      12798.0      4522.0      75.7   \n",
       "466295  10.24     3454.0        10.3     127412.0      3309.0       7.3   \n",
       "\n",
       "        total_rev_hi_lim  open_acc  mths_since_rcnt_il  open_rv_12m  \\\n",
       "466285           52200.0      17.0                28.0          0.0   \n",
       "466286           26800.0      15.0                11.0          0.0   \n",
       "466287            4300.0       6.0                47.0          0.0   \n",
       "466288           14200.0      10.0                13.0          1.0   \n",
       "466289           14000.0       6.0                19.0          0.0   \n",
       "466290           36100.0       7.0                 8.0          1.0   \n",
       "466291           38400.0       9.0                13.0          0.0   \n",
       "466292            9300.0       7.0                21.0          3.0   \n",
       "466293           12900.0       5.0               338.0          0.0   \n",
       "466295           33600.0       9.0                73.0          0.0   \n",
       "\n",
       "             ...         revol_bal_woe  revol_util_woe  tot_cur_bal_woe  \\\n",
       "466285       ...             -0.260358        0.246428         0.092984   \n",
       "466286       ...              0.233148        0.246428         0.092984   \n",
       "466287       ...              0.484556        0.246428         0.144580   \n",
       "466288       ...              0.484556        0.220221         0.002192   \n",
       "466289       ...              0.233148       -0.086980         0.092984   \n",
       "466290       ...             -0.260358        0.220221        -0.272369   \n",
       "466291       ...             -0.260358       -0.086980        -0.272369   \n",
       "466292       ...              0.484556        0.246428         0.092984   \n",
       "466293       ...              0.233148       -0.086980         0.144580   \n",
       "466295       ...              0.484556        0.246428         0.092984   \n",
       "\n",
       "        max_bal_bc_woe  all_util_woe  total_rev_hi_lim_woe  open_acc_woe  \\\n",
       "466285       -0.211423      0.089277             -0.616201     -0.032380   \n",
       "466286        0.115441     -0.016446             -0.138020      0.034111   \n",
       "466287        0.534375      0.089277              0.407977     -0.078535   \n",
       "466288        0.115441      0.011100              0.407977      0.040267   \n",
       "466289        0.534375      0.011100              0.407977     -0.078535   \n",
       "466290       -0.211423      0.089277             -0.138020     -0.078535   \n",
       "466291       -0.692487     -0.016446             -0.138020      0.040267   \n",
       "466292        0.534375      0.089277              0.407977     -0.078535   \n",
       "466293       -0.211423      0.011100              0.407977     -0.078535   \n",
       "466295        0.115441      0.089277             -0.138020      0.040267   \n",
       "\n",
       "        mths_since_rcnt_il_woe  open_rv_12m_woe  open_rv_24m_woe  \n",
       "466285               -0.074801        -0.182672        -0.154593  \n",
       "466286               -0.027993        -0.182672        -0.008101  \n",
       "466287               -0.074801        -0.182672        -0.316417  \n",
       "466288               -0.027993        -0.047740        -0.154593  \n",
       "466289               -0.074801        -0.182672        -0.008101  \n",
       "466290                0.065712        -0.047740        -0.154593  \n",
       "466291               -0.027993        -0.182672        -0.154593  \n",
       "466292               -0.074801         0.181491        -0.008101  \n",
       "466293               -0.074801        -0.182672        -0.316417  \n",
       "466295               -0.074801        -0.182672        -0.154593  \n",
       "\n",
       "[10 rows x 22 columns]"
      ]
     },
     "execution_count": 39,
     "metadata": {},
     "output_type": "execute_result"
    }
   ],
   "source": [
    "perfect_credit_data[long_var+long_var_woe].head(10)"
   ]
  },
  {
   "cell_type": "code",
   "execution_count": 40,
   "metadata": {
    "collapsed": false
   },
   "outputs": [
    {
     "data": {
      "text/html": [
       "<div>\n",
       "<table border=\"1\" class=\"dataframe\">\n",
       "  <thead>\n",
       "    <tr style=\"text-align: right;\">\n",
       "      <th></th>\n",
       "      <th>total_cu_tl_woe</th>\n",
       "      <th>total_cu_tl</th>\n",
       "    </tr>\n",
       "  </thead>\n",
       "  <tbody>\n",
       "    <tr>\n",
       "      <th>466285</th>\n",
       "      <td>-0.092319</td>\n",
       "      <td>4.0</td>\n",
       "    </tr>\n",
       "    <tr>\n",
       "      <th>466286</th>\n",
       "      <td>0.018434</td>\n",
       "      <td>0.0</td>\n",
       "    </tr>\n",
       "    <tr>\n",
       "      <th>466287</th>\n",
       "      <td>0.018434</td>\n",
       "      <td>0.0</td>\n",
       "    </tr>\n",
       "    <tr>\n",
       "      <th>466288</th>\n",
       "      <td>0.018434</td>\n",
       "      <td>1.0</td>\n",
       "    </tr>\n",
       "    <tr>\n",
       "      <th>466289</th>\n",
       "      <td>-0.100566</td>\n",
       "      <td>5.0</td>\n",
       "    </tr>\n",
       "    <tr>\n",
       "      <th>466290</th>\n",
       "      <td>-0.092319</td>\n",
       "      <td>3.0</td>\n",
       "    </tr>\n",
       "    <tr>\n",
       "      <th>466291</th>\n",
       "      <td>0.018434</td>\n",
       "      <td>0.0</td>\n",
       "    </tr>\n",
       "    <tr>\n",
       "      <th>466292</th>\n",
       "      <td>0.018434</td>\n",
       "      <td>1.0</td>\n",
       "    </tr>\n",
       "    <tr>\n",
       "      <th>466293</th>\n",
       "      <td>0.018434</td>\n",
       "      <td>0.0</td>\n",
       "    </tr>\n",
       "    <tr>\n",
       "      <th>466295</th>\n",
       "      <td>0.018434</td>\n",
       "      <td>0.0</td>\n",
       "    </tr>\n",
       "  </tbody>\n",
       "</table>\n",
       "</div>"
      ],
      "text/plain": [
       "        total_cu_tl_woe  total_cu_tl\n",
       "466285        -0.092319          4.0\n",
       "466286         0.018434          0.0\n",
       "466287         0.018434          0.0\n",
       "466288         0.018434          1.0\n",
       "466289        -0.100566          5.0\n",
       "466290        -0.092319          3.0\n",
       "466291         0.018434          0.0\n",
       "466292         0.018434          1.0\n",
       "466293         0.018434          0.0\n",
       "466295         0.018434          0.0"
      ]
     },
     "execution_count": 40,
     "metadata": {},
     "output_type": "execute_result"
    }
   ],
   "source": [
    "perfect_credit_data[re_partiton_var_woe+re_partiton_var].head(10)"
   ]
  },
  {
   "cell_type": "markdown",
   "metadata": {},
   "source": [
    "**5）逻辑回归模拟**"
   ]
  },
  {
   "cell_type": "code",
   "execution_count": 41,
   "metadata": {
    "collapsed": false
   },
   "outputs": [],
   "source": [
    "import statsmodels.api as sm\n",
    "import matplotlib.pyplot as plt\n",
    "from patsy import dmatrices\n",
    "from sklearn.linear_model import LogisticRegression\n",
    "from sklearn.cross_validation import train_test_split\n",
    "from sklearn import metrics\n",
    "from sklearn.cross_validation import cross_val_score"
   ]
  },
  {
   "cell_type": "code",
   "execution_count": 73,
   "metadata": {
    "collapsed": false
   },
   "outputs": [
    {
     "data": {
      "text/plain": [
       "0.82432723358449944"
      ]
     },
     "execution_count": 73,
     "metadata": {},
     "output_type": "execute_result"
    }
   ],
   "source": [
    "train_data = perfect_credit_data[short_var_woe+long_var_woe+re_partiton_var_woe][0:len(perfect_credit_data)/2]\n",
    "train_target = perfect_credit_data['unhealthy'][0:len(perfect_credit_data)/2]\n",
    "\n",
    "test_data = perfect_credit_data[short_var_woe+long_var_woe+re_partiton_var_woe][(len(perfect_credit_data)/2+1)::]\n",
    "test_target = perfect_credit_data['unhealthy'][(len(perfect_credit_data)/2+1)::]\n",
    "\n",
    "model = LogisticRegression()\n",
    "result = model.fit(train_data, train_target)\n",
    "result.score(train_data, train_target)"
   ]
  },
  {
   "cell_type": "code",
   "execution_count": 74,
   "metadata": {
    "collapsed": false
   },
   "outputs": [
    {
     "data": {
      "text/plain": [
       "0.17545748116254037"
      ]
     },
     "execution_count": 74,
     "metadata": {},
     "output_type": "execute_result"
    }
   ],
   "source": [
    "train_target.mean()"
   ]
  },
  {
   "cell_type": "markdown",
   "metadata": {},
   "source": [
    "精确度貌似不高。。。"
   ]
  },
  {
   "cell_type": "code",
   "execution_count": 76,
   "metadata": {
    "collapsed": false
   },
   "outputs": [
    {
     "data": {
      "text/plain": [
       "0.81666487242975561"
      ]
     },
     "execution_count": 76,
     "metadata": {},
     "output_type": "execute_result"
    }
   ],
   "source": [
    "result.score(test_data, test_target)"
   ]
  },
  {
   "cell_type": "code",
   "execution_count": 77,
   "metadata": {
    "collapsed": false
   },
   "outputs": [
    {
     "data": {
      "text/plain": [
       "0.1834427817849069"
      ]
     },
     "execution_count": 77,
     "metadata": {},
     "output_type": "execute_result"
    }
   ],
   "source": [
    "test_target.mean()"
   ]
  },
  {
   "cell_type": "markdown",
   "metadata": {},
   "source": [
    "**6）模型检验**"
   ]
  },
  {
   "cell_type": "code",
   "execution_count": 78,
   "metadata": {
    "collapsed": false
   },
   "outputs": [
    {
     "name": "stdout",
     "output_type": "stream",
     "text": [
      "[[7580    5]\n",
      " [1698    6]]\n",
      "             precision    recall  f1-score   support\n",
      "\n",
      "          0       0.82      1.00      0.90      7585\n",
      "          1       0.55      0.00      0.01      1704\n",
      "\n",
      "avg / total       0.77      0.82      0.74      9289\n",
      "\n"
     ]
    }
   ],
   "source": [
    "print metrics.confusion_matrix(test_target, predit)\n",
    "print metrics.classification_report(test_target, predit)"
   ]
  },
  {
   "cell_type": "markdown",
   "metadata": {},
   "source": [
    "从以上结果看来，模型对“违约”的预测能力非常不够。"
   ]
  },
  {
   "cell_type": "markdown",
   "metadata": {},
   "source": [
    "**7）制作评分卡**\n",
    "\n",
    "模型没有预测能力，制作评分卡虽是徒劳，不过熟悉一下整个流程也是不错的。"
   ]
  },
  {
   "cell_type": "code",
   "execution_count": 116,
   "metadata": {
    "collapsed": false
   },
   "outputs": [],
   "source": [
    "logit_value = (result.coef_[0]*test_data).sum(1) + model.intercept_\n",
    "diff = logit_value.max() - logit_value.min()"
   ]
  },
  {
   "cell_type": "markdown",
   "metadata": {},
   "source": [
    "评分卡最低分300，最高分1000。\n",
    "\n",
    "计算基准分："
   ]
  },
  {
   "cell_type": "code",
   "execution_count": 119,
   "metadata": {
    "collapsed": false
   },
   "outputs": [
    {
     "data": {
      "text/plain": [
       "366.58964359055381"
      ]
     },
     "execution_count": 119,
     "metadata": {},
     "output_type": "execute_result"
    }
   ],
   "source": [
    "base_score = 1000 - ( (model.intercept_[0] - logit_value.min())*700 / diff + 300 )\n",
    "base_score"
   ]
  },
  {
   "cell_type": "code",
   "execution_count": 227,
   "metadata": {
    "collapsed": false
   },
   "outputs": [],
   "source": [
    "# 各变量回归系数\n",
    "coefficient_of_regression = pd.DataFrame(model.coef_, columns=train_data.columns, index=[0])\n",
    "\n",
    "# 存储评分卡\n",
    "empty = pd.DataFrame(columns=['var', 'score'])\n",
    "credit_score = pd.DataFrame(columns=['var', 'score'])\n",
    "credit_score = pd.concat([empty, credit_score], keys=['empty0', 'empty1'])\n",
    "\n",
    "def creat_credit_score_card(partition_percent):\n",
    "    empty = pd.DataFrame(columns=['var', 'score'])\n",
    "    credit_score_in_fun = pd.DataFrame(columns=['var', 'score'])\n",
    "    credit_score_in_fun = pd.concat([empty, credit_score_in_fun], keys=['empty0', 'empty1'])\n",
    "    for var in partition_percent:\n",
    "        credit_score_of_var = pd.DataFrame(columns=['var', 'score'], index=range(0, len(partition_percent[var].dropna())-1))\n",
    "        pp_values_of_var = partition_percent[var].dropna().values\n",
    "        for index in range(0, len(partition_percent[var].dropna())-1):\n",
    "            if pp_values_of_var[index] != pp_values_of_var[index+1]:\n",
    "                var_value = np.str(pp_values_of_var[index]) + ' <= x < ' + np.str(pp_values_of_var[index+1])\n",
    "                # 计算每个栏位的得分\n",
    "                var_woe_in_pp = perfect_credit_data.loc[(perfect_credit_data[var] >= pp_values_of_var[index]) & (perfect_credit_data[var] < pp_values_of_var[index+1]), \\\n",
    "                                                     var+'_woe'].unique()[0]\n",
    "                score_value = 1000 - ((var_woe_in_pp*coefficient_of_regression[var+'_woe'].values[0] - logit_value.min())*700 / diff + 300)\n",
    "                credit_score_of_var.loc[index] = [var_value, score_value]\n",
    "                \n",
    "        credit_score_of_var = pd.concat([empty, credit_score_of_var], keys=['empty', var])\n",
    "        credit_score_in_fun = pd.concat([credit_score_in_fun, credit_score_of_var])\n",
    "    return credit_score_in_fun\n",
    "\n",
    "credit_score = pd.concat([credit_score, creat_credit_score_card(partition_percent_of_short_var)])\n",
    "credit_score = pd.concat([credit_score, creat_credit_score_card(partition_percent_of_long_var)])\n",
    "credit_score = pd.concat([credit_score, creat_credit_score_card(partition_percent_of_re_partiton_var)])"
   ]
  },
  {
   "cell_type": "code",
   "execution_count": 228,
   "metadata": {
    "collapsed": false
   },
   "outputs": [
    {
     "data": {
      "text/html": [
       "<div>\n",
       "<table border=\"1\" class=\"dataframe\">\n",
       "  <thead>\n",
       "    <tr style=\"text-align: right;\">\n",
       "      <th></th>\n",
       "      <th></th>\n",
       "      <th>var</th>\n",
       "      <th>score</th>\n",
       "    </tr>\n",
       "  </thead>\n",
       "  <tbody>\n",
       "    <tr>\n",
       "      <th rowspan=\"5\" valign=\"top\">delinq_2yrs</th>\n",
       "      <th>0</th>\n",
       "      <td>0.0 &lt;= x &lt; 1.0</td>\n",
       "      <td>91.4574</td>\n",
       "    </tr>\n",
       "    <tr>\n",
       "      <th>1</th>\n",
       "      <td>1.0 &lt;= x &lt; 4.0</td>\n",
       "      <td>33.3425</td>\n",
       "    </tr>\n",
       "    <tr>\n",
       "      <th>2</th>\n",
       "      <td>4.0 &lt;= x &lt; 6.0</td>\n",
       "      <td>28.48</td>\n",
       "    </tr>\n",
       "    <tr>\n",
       "      <th>3</th>\n",
       "      <td>6.0 &lt;= x &lt; 9.0</td>\n",
       "      <td>-19.1159</td>\n",
       "    </tr>\n",
       "    <tr>\n",
       "      <th>4</th>\n",
       "      <td>9.0 &lt;= x &lt; 16.0</td>\n",
       "      <td>58.7722</td>\n",
       "    </tr>\n",
       "    <tr>\n",
       "      <th rowspan=\"4\" valign=\"top\">pub_rec</th>\n",
       "      <th>0</th>\n",
       "      <td>0.0 &lt;= x &lt; 2.0</td>\n",
       "      <td>82.6886</td>\n",
       "    </tr>\n",
       "    <tr>\n",
       "      <th>1</th>\n",
       "      <td>2.0 &lt;= x &lt; 6.0</td>\n",
       "      <td>-29.3404</td>\n",
       "    </tr>\n",
       "    <tr>\n",
       "      <th>2</th>\n",
       "      <td>6.0 &lt;= x &lt; 9.0</td>\n",
       "      <td>-58.7379</td>\n",
       "    </tr>\n",
       "    <tr>\n",
       "      <th>3</th>\n",
       "      <td>9.0 &lt;= x &lt; 25.0</td>\n",
       "      <td>-127.865</td>\n",
       "    </tr>\n",
       "    <tr>\n",
       "      <th rowspan=\"6\" valign=\"top\">inq_last_6mths</th>\n",
       "      <th>0</th>\n",
       "      <td>0 &lt;= x &lt; 1</td>\n",
       "      <td>81.907</td>\n",
       "    </tr>\n",
       "    <tr>\n",
       "      <th>1</th>\n",
       "      <td>1 &lt;= x &lt; 2</td>\n",
       "      <td>77.326</td>\n",
       "    </tr>\n",
       "    <tr>\n",
       "      <th>2</th>\n",
       "      <td>2 &lt;= x &lt; 3</td>\n",
       "      <td>64.4525</td>\n",
       "    </tr>\n",
       "    <tr>\n",
       "      <th>3</th>\n",
       "      <td>3 &lt;= x &lt; 4</td>\n",
       "      <td>59.2191</td>\n",
       "    </tr>\n",
       "    <tr>\n",
       "      <th>4</th>\n",
       "      <td>4 &lt;= x &lt; 5</td>\n",
       "      <td>56.134</td>\n",
       "    </tr>\n",
       "    <tr>\n",
       "      <th>5</th>\n",
       "      <td>5 &lt;= x &lt; 6</td>\n",
       "      <td>125.437</td>\n",
       "    </tr>\n",
       "    <tr>\n",
       "      <th rowspan=\"3\" valign=\"top\">open_acc_6m</th>\n",
       "      <th>0</th>\n",
       "      <td>0.0 &lt;= x &lt; 3.0</td>\n",
       "      <td>77.0946</td>\n",
       "    </tr>\n",
       "    <tr>\n",
       "      <th>1</th>\n",
       "      <td>3.0 &lt;= x &lt; 7.0</td>\n",
       "      <td>82.559</td>\n",
       "    </tr>\n",
       "    <tr>\n",
       "      <th>2</th>\n",
       "      <td>7.0 &lt;= x &lt; 15.0</td>\n",
       "      <td>84.6743</td>\n",
       "    </tr>\n",
       "    <tr>\n",
       "      <th rowspan=\"4\" valign=\"top\">open_il_12m</th>\n",
       "      <th>0</th>\n",
       "      <td>0.0 &lt;= x &lt; 2.0</td>\n",
       "      <td>75.4825</td>\n",
       "    </tr>\n",
       "    <tr>\n",
       "      <th>1</th>\n",
       "      <td>2.0 &lt;= x &lt; 4.0</td>\n",
       "      <td>85.8841</td>\n",
       "    </tr>\n",
       "    <tr>\n",
       "      <th>2</th>\n",
       "      <td>4.0 &lt;= x &lt; 9.0</td>\n",
       "      <td>92.1839</td>\n",
       "    </tr>\n",
       "    <tr>\n",
       "      <th>3</th>\n",
       "      <td>9.0 &lt;= x &lt; 13.0</td>\n",
       "      <td>89.2135</td>\n",
       "    </tr>\n",
       "    <tr>\n",
       "      <th rowspan=\"4\" valign=\"top\">dti</th>\n",
       "      <th>0</th>\n",
       "      <td>0.0 &lt;= x &lt; 14.06</td>\n",
       "      <td>77.2674</td>\n",
       "    </tr>\n",
       "    <tr>\n",
       "      <th>1</th>\n",
       "      <td>14.06 &lt;= x &lt; 19.87</td>\n",
       "      <td>77.6033</td>\n",
       "    </tr>\n",
       "    <tr>\n",
       "      <th>2</th>\n",
       "      <td>19.87 &lt;= x &lt; 26.36</td>\n",
       "      <td>78.186</td>\n",
       "    </tr>\n",
       "    <tr>\n",
       "      <th>3</th>\n",
       "      <td>26.36 &lt;= x &lt; 9999.0</td>\n",
       "      <td>78.3759</td>\n",
       "    </tr>\n",
       "    <tr>\n",
       "      <th rowspan=\"4\" valign=\"top\">revol_bal</th>\n",
       "      <th>0</th>\n",
       "      <td>0.0 &lt;= x &lt; 6235.0</td>\n",
       "      <td>70.1797</td>\n",
       "    </tr>\n",
       "    <tr>\n",
       "      <th>1</th>\n",
       "      <td>6235.0 &lt;= x &lt; 11807.0</td>\n",
       "      <td>74.1579</td>\n",
       "    </tr>\n",
       "    <tr>\n",
       "      <th>2</th>\n",
       "      <td>11807.0 &lt;= x &lt; 21077.5</td>\n",
       "      <td>81.967</td>\n",
       "    </tr>\n",
       "    <tr>\n",
       "      <th>3</th>\n",
       "      <td>21077.5 &lt;= x &lt; 647310.0</td>\n",
       "      <td>89.4675</td>\n",
       "    </tr>\n",
       "    <tr>\n",
       "      <th>...</th>\n",
       "      <th>...</th>\n",
       "      <td>...</td>\n",
       "      <td>...</td>\n",
       "    </tr>\n",
       "    <tr>\n",
       "      <th rowspan=\"2\" valign=\"top\">max_bal_bc</th>\n",
       "      <th>2</th>\n",
       "      <td>4464.0 &lt;= x &lt; 7677.5</td>\n",
       "      <td>92.2483</td>\n",
       "    </tr>\n",
       "    <tr>\n",
       "      <th>3</th>\n",
       "      <td>7677.5 &lt;= x &lt; 127305.0</td>\n",
       "      <td>125.016</td>\n",
       "    </tr>\n",
       "    <tr>\n",
       "      <th rowspan=\"4\" valign=\"top\">all_util</th>\n",
       "      <th>0</th>\n",
       "      <td>0.0 &lt;= x &lt; 49.9</td>\n",
       "      <td>77.6653</td>\n",
       "    </tr>\n",
       "    <tr>\n",
       "      <th>1</th>\n",
       "      <td>49.9 &lt;= x &lt; 63.1</td>\n",
       "      <td>77.8807</td>\n",
       "    </tr>\n",
       "    <tr>\n",
       "      <th>2</th>\n",
       "      <td>63.1 &lt;= x &lt; 75.8</td>\n",
       "      <td>77.8245</td>\n",
       "    </tr>\n",
       "    <tr>\n",
       "      <th>3</th>\n",
       "      <td>75.8 &lt;= x &lt; 151.4</td>\n",
       "      <td>78.028</td>\n",
       "    </tr>\n",
       "    <tr>\n",
       "      <th rowspan=\"4\" valign=\"top\">total_rev_hi_lim</th>\n",
       "      <th>0</th>\n",
       "      <td>0.0 &lt;= x &lt; 14600.0</td>\n",
       "      <td>10.0962</td>\n",
       "    </tr>\n",
       "    <tr>\n",
       "      <th>1</th>\n",
       "      <td>14600.0 &lt;= x &lt; 25500.0</td>\n",
       "      <td>50.736</td>\n",
       "    </tr>\n",
       "    <tr>\n",
       "      <th>2</th>\n",
       "      <td>25500.0 &lt;= x &lt; 42900.0</td>\n",
       "      <td>100.767</td>\n",
       "    </tr>\n",
       "    <tr>\n",
       "      <th>3</th>\n",
       "      <td>42900.0 &lt;= x &lt; 755900.0</td>\n",
       "      <td>180.177</td>\n",
       "    </tr>\n",
       "    <tr>\n",
       "      <th rowspan=\"4\" valign=\"top\">open_acc</th>\n",
       "      <th>0</th>\n",
       "      <td>2.0 &lt;= x &lt; 8.0</td>\n",
       "      <td>87.0434</td>\n",
       "    </tr>\n",
       "    <tr>\n",
       "      <th>1</th>\n",
       "      <td>8.0 &lt;= x &lt; 11.0</td>\n",
       "      <td>73.1319</td>\n",
       "    </tr>\n",
       "    <tr>\n",
       "      <th>2</th>\n",
       "      <td>11.0 &lt;= x &lt; 16.0</td>\n",
       "      <td>73.8528</td>\n",
       "    </tr>\n",
       "    <tr>\n",
       "      <th>3</th>\n",
       "      <td>16.0 &lt;= x &lt; 65.0</td>\n",
       "      <td>81.6387</td>\n",
       "    </tr>\n",
       "    <tr>\n",
       "      <th rowspan=\"4\" valign=\"top\">mths_since_rcnt_il</th>\n",
       "      <th>0</th>\n",
       "      <td>0.0 &lt;= x &lt; 5.0</td>\n",
       "      <td>77.6254</td>\n",
       "    </tr>\n",
       "    <tr>\n",
       "      <th>1</th>\n",
       "      <td>5.0 &lt;= x &lt; 11.0</td>\n",
       "      <td>77.4575</td>\n",
       "    </tr>\n",
       "    <tr>\n",
       "      <th>2</th>\n",
       "      <td>11.0 &lt;= x &lt; 19.0</td>\n",
       "      <td>78.0131</td>\n",
       "    </tr>\n",
       "    <tr>\n",
       "      <th>3</th>\n",
       "      <td>19.0 &lt;= x &lt; 363.0</td>\n",
       "      <td>78.2907</td>\n",
       "    </tr>\n",
       "    <tr>\n",
       "      <th rowspan=\"4\" valign=\"top\">open_rv_12m</th>\n",
       "      <th>0</th>\n",
       "      <td>NaN</td>\n",
       "      <td>NaN</td>\n",
       "    </tr>\n",
       "    <tr>\n",
       "      <th>1</th>\n",
       "      <td>0.0 &lt;= x &lt; 1.0</td>\n",
       "      <td>88.3014</td>\n",
       "    </tr>\n",
       "    <tr>\n",
       "      <th>2</th>\n",
       "      <td>1.0 &lt;= x &lt; 2.0</td>\n",
       "      <td>80.5793</td>\n",
       "    </tr>\n",
       "    <tr>\n",
       "      <th>3</th>\n",
       "      <td>2.0 &lt;= x &lt; 22.0</td>\n",
       "      <td>67.4605</td>\n",
       "    </tr>\n",
       "    <tr>\n",
       "      <th rowspan=\"4\" valign=\"top\">open_rv_24m</th>\n",
       "      <th>0</th>\n",
       "      <td>0.0 &lt;= x &lt; 1.0</td>\n",
       "      <td>112.773</td>\n",
       "    </tr>\n",
       "    <tr>\n",
       "      <th>1</th>\n",
       "      <td>1.0 &lt;= x &lt; 2.0</td>\n",
       "      <td>94.9108</td>\n",
       "    </tr>\n",
       "    <tr>\n",
       "      <th>2</th>\n",
       "      <td>2.0 &lt;= x &lt; 4.0</td>\n",
       "      <td>78.7413</td>\n",
       "    </tr>\n",
       "    <tr>\n",
       "      <th>3</th>\n",
       "      <td>4.0 &lt;= x &lt; 43.0</td>\n",
       "      <td>56.4306</td>\n",
       "    </tr>\n",
       "    <tr>\n",
       "      <th rowspan=\"4\" valign=\"top\">total_cu_tl</th>\n",
       "      <th>0</th>\n",
       "      <td>0.0 &lt;= x &lt; 2.1875</td>\n",
       "      <td>74.3449</td>\n",
       "    </tr>\n",
       "    <tr>\n",
       "      <th>1</th>\n",
       "      <td>2.1875 &lt;= x &lt; 4.375</td>\n",
       "      <td>95.387</td>\n",
       "    </tr>\n",
       "    <tr>\n",
       "      <th>2</th>\n",
       "      <td>4.375 &lt;= x &lt; 8.75</td>\n",
       "      <td>96.9538</td>\n",
       "    </tr>\n",
       "    <tr>\n",
       "      <th>3</th>\n",
       "      <td>8.75 &lt;= x &lt; 35.0</td>\n",
       "      <td>61.6865</td>\n",
       "    </tr>\n",
       "  </tbody>\n",
       "</table>\n",
       "<p>70 rows × 2 columns</p>\n",
       "</div>"
      ],
      "text/plain": [
       "                                          var    score\n",
       "delinq_2yrs        0           0.0 <= x < 1.0  91.4574\n",
       "                   1           1.0 <= x < 4.0  33.3425\n",
       "                   2           4.0 <= x < 6.0    28.48\n",
       "                   3           6.0 <= x < 9.0 -19.1159\n",
       "                   4          9.0 <= x < 16.0  58.7722\n",
       "pub_rec            0           0.0 <= x < 2.0  82.6886\n",
       "                   1           2.0 <= x < 6.0 -29.3404\n",
       "                   2           6.0 <= x < 9.0 -58.7379\n",
       "                   3          9.0 <= x < 25.0 -127.865\n",
       "inq_last_6mths     0               0 <= x < 1   81.907\n",
       "                   1               1 <= x < 2   77.326\n",
       "                   2               2 <= x < 3  64.4525\n",
       "                   3               3 <= x < 4  59.2191\n",
       "                   4               4 <= x < 5   56.134\n",
       "                   5               5 <= x < 6  125.437\n",
       "open_acc_6m        0           0.0 <= x < 3.0  77.0946\n",
       "                   1           3.0 <= x < 7.0   82.559\n",
       "                   2          7.0 <= x < 15.0  84.6743\n",
       "open_il_12m        0           0.0 <= x < 2.0  75.4825\n",
       "                   1           2.0 <= x < 4.0  85.8841\n",
       "                   2           4.0 <= x < 9.0  92.1839\n",
       "                   3          9.0 <= x < 13.0  89.2135\n",
       "dti                0         0.0 <= x < 14.06  77.2674\n",
       "                   1       14.06 <= x < 19.87  77.6033\n",
       "                   2       19.87 <= x < 26.36   78.186\n",
       "                   3      26.36 <= x < 9999.0  78.3759\n",
       "revol_bal          0        0.0 <= x < 6235.0  70.1797\n",
       "                   1    6235.0 <= x < 11807.0  74.1579\n",
       "                   2   11807.0 <= x < 21077.5   81.967\n",
       "                   3  21077.5 <= x < 647310.0  89.4675\n",
       "...                                       ...      ...\n",
       "max_bal_bc         2     4464.0 <= x < 7677.5  92.2483\n",
       "                   3   7677.5 <= x < 127305.0  125.016\n",
       "all_util           0          0.0 <= x < 49.9  77.6653\n",
       "                   1         49.9 <= x < 63.1  77.8807\n",
       "                   2         63.1 <= x < 75.8  77.8245\n",
       "                   3        75.8 <= x < 151.4   78.028\n",
       "total_rev_hi_lim   0       0.0 <= x < 14600.0  10.0962\n",
       "                   1   14600.0 <= x < 25500.0   50.736\n",
       "                   2   25500.0 <= x < 42900.0  100.767\n",
       "                   3  42900.0 <= x < 755900.0  180.177\n",
       "open_acc           0           2.0 <= x < 8.0  87.0434\n",
       "                   1          8.0 <= x < 11.0  73.1319\n",
       "                   2         11.0 <= x < 16.0  73.8528\n",
       "                   3         16.0 <= x < 65.0  81.6387\n",
       "mths_since_rcnt_il 0           0.0 <= x < 5.0  77.6254\n",
       "                   1          5.0 <= x < 11.0  77.4575\n",
       "                   2         11.0 <= x < 19.0  78.0131\n",
       "                   3        19.0 <= x < 363.0  78.2907\n",
       "open_rv_12m        0                      NaN      NaN\n",
       "                   1           0.0 <= x < 1.0  88.3014\n",
       "                   2           1.0 <= x < 2.0  80.5793\n",
       "                   3          2.0 <= x < 22.0  67.4605\n",
       "open_rv_24m        0           0.0 <= x < 1.0  112.773\n",
       "                   1           1.0 <= x < 2.0  94.9108\n",
       "                   2           2.0 <= x < 4.0  78.7413\n",
       "                   3          4.0 <= x < 43.0  56.4306\n",
       "total_cu_tl        0        0.0 <= x < 2.1875  74.3449\n",
       "                   1      2.1875 <= x < 4.375   95.387\n",
       "                   2        4.375 <= x < 8.75  96.9538\n",
       "                   3         8.75 <= x < 35.0  61.6865\n",
       "\n",
       "[70 rows x 2 columns]"
      ]
     },
     "execution_count": 228,
     "metadata": {},
     "output_type": "execute_result"
    }
   ],
   "source": [
    "credit_score"
   ]
  },
  {
   "cell_type": "code",
   "execution_count": 197,
   "metadata": {
    "collapsed": false
   },
   "outputs": [
    {
     "data": {
      "text/html": [
       "<div>\n",
       "<table border=\"1\" class=\"dataframe\">\n",
       "  <thead>\n",
       "    <tr style=\"text-align: right;\">\n",
       "      <th></th>\n",
       "      <th></th>\n",
       "      <th>var</th>\n",
       "      <th>score</th>\n",
       "    </tr>\n",
       "  </thead>\n",
       "  <tbody>\n",
       "    <tr>\n",
       "      <th rowspan=\"8\" valign=\"top\">men</th>\n",
       "      <th>0</th>\n",
       "      <td>1</td>\n",
       "      <td>3</td>\n",
       "    </tr>\n",
       "    <tr>\n",
       "      <th>1</th>\n",
       "      <td>1</td>\n",
       "      <td>3</td>\n",
       "    </tr>\n",
       "    <tr>\n",
       "      <th>2</th>\n",
       "      <td>1</td>\n",
       "      <td>3</td>\n",
       "    </tr>\n",
       "    <tr>\n",
       "      <th>3</th>\n",
       "      <td>1</td>\n",
       "      <td>3</td>\n",
       "    </tr>\n",
       "    <tr>\n",
       "      <th>0</th>\n",
       "      <td>1</td>\n",
       "      <td>3</td>\n",
       "    </tr>\n",
       "    <tr>\n",
       "      <th>1</th>\n",
       "      <td>1</td>\n",
       "      <td>3</td>\n",
       "    </tr>\n",
       "    <tr>\n",
       "      <th>2</th>\n",
       "      <td>1</td>\n",
       "      <td>3</td>\n",
       "    </tr>\n",
       "    <tr>\n",
       "      <th>3</th>\n",
       "      <td>1</td>\n",
       "      <td>3</td>\n",
       "    </tr>\n",
       "  </tbody>\n",
       "</table>\n",
       "</div>"
      ],
      "text/plain": [
       "      var score\n",
       "men 0   1     3\n",
       "    1   1     3\n",
       "    2   1     3\n",
       "    3   1     3\n",
       "    0   1     3\n",
       "    1   1     3\n",
       "    2   1     3\n",
       "    3   1     3"
      ]
     },
     "execution_count": 197,
     "metadata": {},
     "output_type": "execute_result"
    }
   ],
   "source": [
    "\n",
    "credit_score = pd.concat([credit_score, credit_score_of_var])\n",
    "credit_score"
   ]
  },
  {
   "cell_type": "markdown",
   "metadata": {
    "collapsed": true
   },
   "source": [
    "#### 2.2.2 得到信用信息不完善的贷款用户数据\n",
    "这一块暂时搁置。"
   ]
  },
  {
   "cell_type": "markdown",
   "metadata": {},
   "source": [
    "### 2.3 "
   ]
  }
 ],
 "metadata": {
  "anaconda-cloud": {},
  "kernelspec": {
   "display_name": "Python [Root]",
   "language": "python",
   "name": "Python [Root]"
  },
  "language_info": {
   "codemirror_mode": {
    "name": "ipython",
    "version": 2
   },
   "file_extension": ".py",
   "mimetype": "text/x-python",
   "name": "python",
   "nbconvert_exporter": "python",
   "pygments_lexer": "ipython2",
   "version": "2.7.12"
  }
 },
 "nbformat": 4,
 "nbformat_minor": 0
}
